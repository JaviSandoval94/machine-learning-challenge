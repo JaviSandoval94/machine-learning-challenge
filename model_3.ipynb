{
 "cells": [
  {
   "cell_type": "markdown",
   "metadata": {},
   "source": [
    "# Model 3"
   ]
  },
  {
   "cell_type": "markdown",
   "metadata": {},
   "source": [
    "## Model: K-Nearest Neighbors <br>\n",
    "### Considerations:\n",
    "- The original data set was filtered to contemplate only two possible outcomes in the column `koi_disposition`: CONFIRMED and FALSE POSITIVE\n",
    "- The column `koi_tce_plnt_num` was dropped from the initial data set. <br>\n",
    " \n",
    "### Key takeaways:\n",
    "- Best fit at {'metric': 'manhattan', 'n_neighbors': 5, 'weights': 'distance'}   best_score_: 0.99220915900256\n",
    "\n",
    "### Resources:\n",
    "- G, Erik. k-Neighbors Classifier with GridSearchCV Basics (2018). Link: https://medium.com/@erikgreenj/k-neighbors-classifier-with-gridsearchcv-basics-3c445ddeb657\n"
   ]
  },
  {
   "cell_type": "code",
   "execution_count": 1,
   "metadata": {
    "tags": []
   },
   "outputs": [],
   "source": [
    "import pandas as pd"
   ]
  },
  {
   "cell_type": "markdown",
   "metadata": {},
   "source": [
    "# Read the CSV and Perform Basic Data Cleaning"
   ]
  },
  {
   "cell_type": "code",
   "execution_count": 2,
   "metadata": {},
   "outputs": [
    {
     "output_type": "execute_result",
     "data": {
      "text/plain": "  koi_disposition  koi_fpflag_nt  koi_fpflag_ss  koi_fpflag_co  koi_fpflag_ec  \\\n0       CONFIRMED              0              0              0              0   \n1  FALSE POSITIVE              0              1              0              0   \n2  FALSE POSITIVE              0              1              0              0   \n3       CONFIRMED              0              0              0              0   \n4       CONFIRMED              0              0              0              0   \n\n   koi_period  koi_period_err1  koi_period_err2  koi_time0bk  \\\n0   54.418383     2.479000e-04    -2.479000e-04   162.513840   \n1   19.899140     1.490000e-05    -1.490000e-05   175.850252   \n2    1.736952     2.630000e-07    -2.630000e-07   170.307565   \n3    2.525592     3.760000e-06    -3.760000e-06   171.595550   \n4    4.134435     1.050000e-05    -1.050000e-05   172.979370   \n\n   koi_time0bk_err1  ...  koi_steff_err2  koi_slogg  koi_slogg_err1  \\\n0          0.003520  ...             -81      4.467           0.064   \n1          0.000581  ...            -176      4.544           0.044   \n2          0.000115  ...            -174      4.564           0.053   \n3          0.001130  ...            -211      4.438           0.070   \n4          0.001900  ...            -232      4.486           0.054   \n\n   koi_slogg_err2  koi_srad  koi_srad_err1  koi_srad_err2         ra  \\\n0          -0.096     0.927          0.105         -0.061  291.93423   \n1          -0.176     0.868          0.233         -0.078  297.00482   \n2          -0.168     0.791          0.201         -0.067  285.53461   \n3          -0.210     1.046          0.334         -0.133  288.75488   \n4          -0.229     0.972          0.315         -0.105  296.28613   \n\n         dec  koi_kepmag  \n0  48.141651      15.347  \n1  48.134129      15.436  \n2  48.285210      15.597  \n3  48.226200      15.509  \n4  48.224670      15.714  \n\n[5 rows x 41 columns]",
      "text/html": "<div>\n<style scoped>\n    .dataframe tbody tr th:only-of-type {\n        vertical-align: middle;\n    }\n\n    .dataframe tbody tr th {\n        vertical-align: top;\n    }\n\n    .dataframe thead th {\n        text-align: right;\n    }\n</style>\n<table border=\"1\" class=\"dataframe\">\n  <thead>\n    <tr style=\"text-align: right;\">\n      <th></th>\n      <th>koi_disposition</th>\n      <th>koi_fpflag_nt</th>\n      <th>koi_fpflag_ss</th>\n      <th>koi_fpflag_co</th>\n      <th>koi_fpflag_ec</th>\n      <th>koi_period</th>\n      <th>koi_period_err1</th>\n      <th>koi_period_err2</th>\n      <th>koi_time0bk</th>\n      <th>koi_time0bk_err1</th>\n      <th>...</th>\n      <th>koi_steff_err2</th>\n      <th>koi_slogg</th>\n      <th>koi_slogg_err1</th>\n      <th>koi_slogg_err2</th>\n      <th>koi_srad</th>\n      <th>koi_srad_err1</th>\n      <th>koi_srad_err2</th>\n      <th>ra</th>\n      <th>dec</th>\n      <th>koi_kepmag</th>\n    </tr>\n  </thead>\n  <tbody>\n    <tr>\n      <th>0</th>\n      <td>CONFIRMED</td>\n      <td>0</td>\n      <td>0</td>\n      <td>0</td>\n      <td>0</td>\n      <td>54.418383</td>\n      <td>2.479000e-04</td>\n      <td>-2.479000e-04</td>\n      <td>162.513840</td>\n      <td>0.003520</td>\n      <td>...</td>\n      <td>-81</td>\n      <td>4.467</td>\n      <td>0.064</td>\n      <td>-0.096</td>\n      <td>0.927</td>\n      <td>0.105</td>\n      <td>-0.061</td>\n      <td>291.93423</td>\n      <td>48.141651</td>\n      <td>15.347</td>\n    </tr>\n    <tr>\n      <th>1</th>\n      <td>FALSE POSITIVE</td>\n      <td>0</td>\n      <td>1</td>\n      <td>0</td>\n      <td>0</td>\n      <td>19.899140</td>\n      <td>1.490000e-05</td>\n      <td>-1.490000e-05</td>\n      <td>175.850252</td>\n      <td>0.000581</td>\n      <td>...</td>\n      <td>-176</td>\n      <td>4.544</td>\n      <td>0.044</td>\n      <td>-0.176</td>\n      <td>0.868</td>\n      <td>0.233</td>\n      <td>-0.078</td>\n      <td>297.00482</td>\n      <td>48.134129</td>\n      <td>15.436</td>\n    </tr>\n    <tr>\n      <th>2</th>\n      <td>FALSE POSITIVE</td>\n      <td>0</td>\n      <td>1</td>\n      <td>0</td>\n      <td>0</td>\n      <td>1.736952</td>\n      <td>2.630000e-07</td>\n      <td>-2.630000e-07</td>\n      <td>170.307565</td>\n      <td>0.000115</td>\n      <td>...</td>\n      <td>-174</td>\n      <td>4.564</td>\n      <td>0.053</td>\n      <td>-0.168</td>\n      <td>0.791</td>\n      <td>0.201</td>\n      <td>-0.067</td>\n      <td>285.53461</td>\n      <td>48.285210</td>\n      <td>15.597</td>\n    </tr>\n    <tr>\n      <th>3</th>\n      <td>CONFIRMED</td>\n      <td>0</td>\n      <td>0</td>\n      <td>0</td>\n      <td>0</td>\n      <td>2.525592</td>\n      <td>3.760000e-06</td>\n      <td>-3.760000e-06</td>\n      <td>171.595550</td>\n      <td>0.001130</td>\n      <td>...</td>\n      <td>-211</td>\n      <td>4.438</td>\n      <td>0.070</td>\n      <td>-0.210</td>\n      <td>1.046</td>\n      <td>0.334</td>\n      <td>-0.133</td>\n      <td>288.75488</td>\n      <td>48.226200</td>\n      <td>15.509</td>\n    </tr>\n    <tr>\n      <th>4</th>\n      <td>CONFIRMED</td>\n      <td>0</td>\n      <td>0</td>\n      <td>0</td>\n      <td>0</td>\n      <td>4.134435</td>\n      <td>1.050000e-05</td>\n      <td>-1.050000e-05</td>\n      <td>172.979370</td>\n      <td>0.001900</td>\n      <td>...</td>\n      <td>-232</td>\n      <td>4.486</td>\n      <td>0.054</td>\n      <td>-0.229</td>\n      <td>0.972</td>\n      <td>0.315</td>\n      <td>-0.105</td>\n      <td>296.28613</td>\n      <td>48.224670</td>\n      <td>15.714</td>\n    </tr>\n  </tbody>\n</table>\n<p>5 rows × 41 columns</p>\n</div>"
     },
     "metadata": {},
     "execution_count": 2
    }
   ],
   "source": [
    "df = pd.read_csv(\"resources/exoplanet_data.csv\")\n",
    "# Drop the null columns where all values are null\n",
    "df = df.dropna(axis='columns', how='all')\n",
    "# Drop the null rows\n",
    "df = df.dropna()\n",
    "df.head()"
   ]
  },
  {
   "cell_type": "code",
   "execution_count": 3,
   "metadata": {},
   "outputs": [
    {
     "output_type": "execute_result",
     "data": {
      "text/plain": "  koi_disposition  koi_fpflag_nt  koi_fpflag_ss  koi_fpflag_co  koi_fpflag_ec  \\\n0       CONFIRMED              0              0              0              0   \n1  FALSE POSITIVE              0              1              0              0   \n2  FALSE POSITIVE              0              1              0              0   \n3       CONFIRMED              0              0              0              0   \n4       CONFIRMED              0              0              0              0   \n\n   koi_period  koi_period_err1  koi_period_err2  koi_time0bk  \\\n0   54.418383     2.479000e-04    -2.479000e-04   162.513840   \n1   19.899140     1.490000e-05    -1.490000e-05   175.850252   \n2    1.736952     2.630000e-07    -2.630000e-07   170.307565   \n3    2.525592     3.760000e-06    -3.760000e-06   171.595550   \n4    4.134435     1.050000e-05    -1.050000e-05   172.979370   \n\n   koi_time0bk_err1  ...  koi_steff_err2  koi_slogg  koi_slogg_err1  \\\n0          0.003520  ...             -81      4.467           0.064   \n1          0.000581  ...            -176      4.544           0.044   \n2          0.000115  ...            -174      4.564           0.053   \n3          0.001130  ...            -211      4.438           0.070   \n4          0.001900  ...            -232      4.486           0.054   \n\n   koi_slogg_err2  koi_srad  koi_srad_err1  koi_srad_err2         ra  \\\n0          -0.096     0.927          0.105         -0.061  291.93423   \n1          -0.176     0.868          0.233         -0.078  297.00482   \n2          -0.168     0.791          0.201         -0.067  285.53461   \n3          -0.210     1.046          0.334         -0.133  288.75488   \n4          -0.229     0.972          0.315         -0.105  296.28613   \n\n         dec  koi_kepmag  \n0  48.141651      15.347  \n1  48.134129      15.436  \n2  48.285210      15.597  \n3  48.226200      15.509  \n4  48.224670      15.714  \n\n[5 rows x 41 columns]",
      "text/html": "<div>\n<style scoped>\n    .dataframe tbody tr th:only-of-type {\n        vertical-align: middle;\n    }\n\n    .dataframe tbody tr th {\n        vertical-align: top;\n    }\n\n    .dataframe thead th {\n        text-align: right;\n    }\n</style>\n<table border=\"1\" class=\"dataframe\">\n  <thead>\n    <tr style=\"text-align: right;\">\n      <th></th>\n      <th>koi_disposition</th>\n      <th>koi_fpflag_nt</th>\n      <th>koi_fpflag_ss</th>\n      <th>koi_fpflag_co</th>\n      <th>koi_fpflag_ec</th>\n      <th>koi_period</th>\n      <th>koi_period_err1</th>\n      <th>koi_period_err2</th>\n      <th>koi_time0bk</th>\n      <th>koi_time0bk_err1</th>\n      <th>...</th>\n      <th>koi_steff_err2</th>\n      <th>koi_slogg</th>\n      <th>koi_slogg_err1</th>\n      <th>koi_slogg_err2</th>\n      <th>koi_srad</th>\n      <th>koi_srad_err1</th>\n      <th>koi_srad_err2</th>\n      <th>ra</th>\n      <th>dec</th>\n      <th>koi_kepmag</th>\n    </tr>\n  </thead>\n  <tbody>\n    <tr>\n      <th>0</th>\n      <td>CONFIRMED</td>\n      <td>0</td>\n      <td>0</td>\n      <td>0</td>\n      <td>0</td>\n      <td>54.418383</td>\n      <td>2.479000e-04</td>\n      <td>-2.479000e-04</td>\n      <td>162.513840</td>\n      <td>0.003520</td>\n      <td>...</td>\n      <td>-81</td>\n      <td>4.467</td>\n      <td>0.064</td>\n      <td>-0.096</td>\n      <td>0.927</td>\n      <td>0.105</td>\n      <td>-0.061</td>\n      <td>291.93423</td>\n      <td>48.141651</td>\n      <td>15.347</td>\n    </tr>\n    <tr>\n      <th>1</th>\n      <td>FALSE POSITIVE</td>\n      <td>0</td>\n      <td>1</td>\n      <td>0</td>\n      <td>0</td>\n      <td>19.899140</td>\n      <td>1.490000e-05</td>\n      <td>-1.490000e-05</td>\n      <td>175.850252</td>\n      <td>0.000581</td>\n      <td>...</td>\n      <td>-176</td>\n      <td>4.544</td>\n      <td>0.044</td>\n      <td>-0.176</td>\n      <td>0.868</td>\n      <td>0.233</td>\n      <td>-0.078</td>\n      <td>297.00482</td>\n      <td>48.134129</td>\n      <td>15.436</td>\n    </tr>\n    <tr>\n      <th>2</th>\n      <td>FALSE POSITIVE</td>\n      <td>0</td>\n      <td>1</td>\n      <td>0</td>\n      <td>0</td>\n      <td>1.736952</td>\n      <td>2.630000e-07</td>\n      <td>-2.630000e-07</td>\n      <td>170.307565</td>\n      <td>0.000115</td>\n      <td>...</td>\n      <td>-174</td>\n      <td>4.564</td>\n      <td>0.053</td>\n      <td>-0.168</td>\n      <td>0.791</td>\n      <td>0.201</td>\n      <td>-0.067</td>\n      <td>285.53461</td>\n      <td>48.285210</td>\n      <td>15.597</td>\n    </tr>\n    <tr>\n      <th>3</th>\n      <td>CONFIRMED</td>\n      <td>0</td>\n      <td>0</td>\n      <td>0</td>\n      <td>0</td>\n      <td>2.525592</td>\n      <td>3.760000e-06</td>\n      <td>-3.760000e-06</td>\n      <td>171.595550</td>\n      <td>0.001130</td>\n      <td>...</td>\n      <td>-211</td>\n      <td>4.438</td>\n      <td>0.070</td>\n      <td>-0.210</td>\n      <td>1.046</td>\n      <td>0.334</td>\n      <td>-0.133</td>\n      <td>288.75488</td>\n      <td>48.226200</td>\n      <td>15.509</td>\n    </tr>\n    <tr>\n      <th>4</th>\n      <td>CONFIRMED</td>\n      <td>0</td>\n      <td>0</td>\n      <td>0</td>\n      <td>0</td>\n      <td>4.134435</td>\n      <td>1.050000e-05</td>\n      <td>-1.050000e-05</td>\n      <td>172.979370</td>\n      <td>0.001900</td>\n      <td>...</td>\n      <td>-232</td>\n      <td>4.486</td>\n      <td>0.054</td>\n      <td>-0.229</td>\n      <td>0.972</td>\n      <td>0.315</td>\n      <td>-0.105</td>\n      <td>296.28613</td>\n      <td>48.224670</td>\n      <td>15.714</td>\n    </tr>\n  </tbody>\n</table>\n<p>5 rows × 41 columns</p>\n</div>"
     },
     "metadata": {},
     "execution_count": 3
    }
   ],
   "source": [
    "# Filter candidate features to work with confirmed and false positives\n",
    "df = df[df[\"koi_disposition\"] != \"CANDIDATE\"]\n",
    "df.head()"
   ]
  },
  {
   "cell_type": "code",
   "execution_count": 4,
   "metadata": {},
   "outputs": [
    {
     "output_type": "execute_result",
     "data": {
      "text/plain": "   koi_fpflag_nt  koi_fpflag_ss  koi_fpflag_co  koi_fpflag_ec  koi_period  \\\n0              0              0              0              0   54.418383   \n1              0              1              0              0   19.899140   \n2              0              1              0              0    1.736952   \n3              0              0              0              0    2.525592   \n4              0              0              0              0    4.134435   \n\n   koi_period_err1  koi_period_err2  koi_time0bk  koi_time0bk_err1  \\\n0     2.479000e-04    -2.479000e-04   162.513840          0.003520   \n1     1.490000e-05    -1.490000e-05   175.850252          0.000581   \n2     2.630000e-07    -2.630000e-07   170.307565          0.000115   \n3     3.760000e-06    -3.760000e-06   171.595550          0.001130   \n4     1.050000e-05    -1.050000e-05   172.979370          0.001900   \n\n   koi_time0bk_err2  ...  koi_slogg  koi_slogg_err1  koi_slogg_err2  koi_srad  \\\n0         -0.003520  ...      4.467           0.064          -0.096     0.927   \n1         -0.000581  ...      4.544           0.044          -0.176     0.868   \n2         -0.000115  ...      4.564           0.053          -0.168     0.791   \n3         -0.001130  ...      4.438           0.070          -0.210     1.046   \n4         -0.001900  ...      4.486           0.054          -0.229     0.972   \n\n   koi_srad_err1  koi_srad_err2         ra        dec  koi_kepmag  \\\n0          0.105         -0.061  291.93423  48.141651      15.347   \n1          0.233         -0.078  297.00482  48.134129      15.436   \n2          0.201         -0.067  285.53461  48.285210      15.597   \n3          0.334         -0.133  288.75488  48.226200      15.509   \n4          0.315         -0.105  296.28613  48.224670      15.714   \n\n   koi_disposition_CONFIRMED  \n0                          1  \n1                          0  \n2                          0  \n3                          1  \n4                          1  \n\n[5 rows x 41 columns]",
      "text/html": "<div>\n<style scoped>\n    .dataframe tbody tr th:only-of-type {\n        vertical-align: middle;\n    }\n\n    .dataframe tbody tr th {\n        vertical-align: top;\n    }\n\n    .dataframe thead th {\n        text-align: right;\n    }\n</style>\n<table border=\"1\" class=\"dataframe\">\n  <thead>\n    <tr style=\"text-align: right;\">\n      <th></th>\n      <th>koi_fpflag_nt</th>\n      <th>koi_fpflag_ss</th>\n      <th>koi_fpflag_co</th>\n      <th>koi_fpflag_ec</th>\n      <th>koi_period</th>\n      <th>koi_period_err1</th>\n      <th>koi_period_err2</th>\n      <th>koi_time0bk</th>\n      <th>koi_time0bk_err1</th>\n      <th>koi_time0bk_err2</th>\n      <th>...</th>\n      <th>koi_slogg</th>\n      <th>koi_slogg_err1</th>\n      <th>koi_slogg_err2</th>\n      <th>koi_srad</th>\n      <th>koi_srad_err1</th>\n      <th>koi_srad_err2</th>\n      <th>ra</th>\n      <th>dec</th>\n      <th>koi_kepmag</th>\n      <th>koi_disposition_CONFIRMED</th>\n    </tr>\n  </thead>\n  <tbody>\n    <tr>\n      <th>0</th>\n      <td>0</td>\n      <td>0</td>\n      <td>0</td>\n      <td>0</td>\n      <td>54.418383</td>\n      <td>2.479000e-04</td>\n      <td>-2.479000e-04</td>\n      <td>162.513840</td>\n      <td>0.003520</td>\n      <td>-0.003520</td>\n      <td>...</td>\n      <td>4.467</td>\n      <td>0.064</td>\n      <td>-0.096</td>\n      <td>0.927</td>\n      <td>0.105</td>\n      <td>-0.061</td>\n      <td>291.93423</td>\n      <td>48.141651</td>\n      <td>15.347</td>\n      <td>1</td>\n    </tr>\n    <tr>\n      <th>1</th>\n      <td>0</td>\n      <td>1</td>\n      <td>0</td>\n      <td>0</td>\n      <td>19.899140</td>\n      <td>1.490000e-05</td>\n      <td>-1.490000e-05</td>\n      <td>175.850252</td>\n      <td>0.000581</td>\n      <td>-0.000581</td>\n      <td>...</td>\n      <td>4.544</td>\n      <td>0.044</td>\n      <td>-0.176</td>\n      <td>0.868</td>\n      <td>0.233</td>\n      <td>-0.078</td>\n      <td>297.00482</td>\n      <td>48.134129</td>\n      <td>15.436</td>\n      <td>0</td>\n    </tr>\n    <tr>\n      <th>2</th>\n      <td>0</td>\n      <td>1</td>\n      <td>0</td>\n      <td>0</td>\n      <td>1.736952</td>\n      <td>2.630000e-07</td>\n      <td>-2.630000e-07</td>\n      <td>170.307565</td>\n      <td>0.000115</td>\n      <td>-0.000115</td>\n      <td>...</td>\n      <td>4.564</td>\n      <td>0.053</td>\n      <td>-0.168</td>\n      <td>0.791</td>\n      <td>0.201</td>\n      <td>-0.067</td>\n      <td>285.53461</td>\n      <td>48.285210</td>\n      <td>15.597</td>\n      <td>0</td>\n    </tr>\n    <tr>\n      <th>3</th>\n      <td>0</td>\n      <td>0</td>\n      <td>0</td>\n      <td>0</td>\n      <td>2.525592</td>\n      <td>3.760000e-06</td>\n      <td>-3.760000e-06</td>\n      <td>171.595550</td>\n      <td>0.001130</td>\n      <td>-0.001130</td>\n      <td>...</td>\n      <td>4.438</td>\n      <td>0.070</td>\n      <td>-0.210</td>\n      <td>1.046</td>\n      <td>0.334</td>\n      <td>-0.133</td>\n      <td>288.75488</td>\n      <td>48.226200</td>\n      <td>15.509</td>\n      <td>1</td>\n    </tr>\n    <tr>\n      <th>4</th>\n      <td>0</td>\n      <td>0</td>\n      <td>0</td>\n      <td>0</td>\n      <td>4.134435</td>\n      <td>1.050000e-05</td>\n      <td>-1.050000e-05</td>\n      <td>172.979370</td>\n      <td>0.001900</td>\n      <td>-0.001900</td>\n      <td>...</td>\n      <td>4.486</td>\n      <td>0.054</td>\n      <td>-0.229</td>\n      <td>0.972</td>\n      <td>0.315</td>\n      <td>-0.105</td>\n      <td>296.28613</td>\n      <td>48.224670</td>\n      <td>15.714</td>\n      <td>1</td>\n    </tr>\n  </tbody>\n</table>\n<p>5 rows × 41 columns</p>\n</div>"
     },
     "metadata": {},
     "execution_count": 4
    }
   ],
   "source": [
    "# Get dummy values from categorical variables\n",
    "data_binary_encoded = pd.get_dummies(df, columns=[\"koi_disposition\"])\n",
    "data_binary_encoded = data_binary_encoded.drop(columns=[\"koi_disposition_FALSE POSITIVE\"])\n",
    "data_binary_encoded.head()"
   ]
  },
  {
   "cell_type": "markdown",
   "metadata": {},
   "source": [
    "# Select your features (columns)"
   ]
  },
  {
   "cell_type": "code",
   "execution_count": 5,
   "metadata": {},
   "outputs": [],
   "source": [
    "# Set features. This will also be used as your x values.\n",
    "selected_features = data_binary_encoded.drop(columns=['koi_tce_plnt_num'])"
   ]
  },
  {
   "cell_type": "markdown",
   "metadata": {},
   "source": [
    "# Create a Train Test Split\n",
    "\n",
    "Use `koi_disposition` for the y values"
   ]
  },
  {
   "cell_type": "code",
   "execution_count": 6,
   "metadata": {},
   "outputs": [],
   "source": [
    "y = selected_features[\"koi_disposition_CONFIRMED\"]\n",
    "X = selected_features.drop(columns=\"koi_disposition_CONFIRMED\")\n",
    "\n",
    "feature_names = X.columns\n",
    "target_names = [\"FALSE POSITIVE\", \"CONFIRMED\"]\n",
    "\n",
    "from sklearn.model_selection import train_test_split\n",
    "X_train, X_test, y_train, y_test = train_test_split(X, y, random_state = 42)\n"
   ]
  },
  {
   "cell_type": "code",
   "execution_count": 7,
   "metadata": {},
   "outputs": [
    {
     "output_type": "execute_result",
     "data": {
      "text/plain": "      koi_fpflag_nt  koi_fpflag_ss  koi_fpflag_co  koi_fpflag_ec  koi_period  \\\n979               0              1              1              1   41.077297   \n6201              0              1              0              0   13.639480   \n5648              0              1              0              0   14.854416   \n229               0              0              0              0   10.681695   \n1302              0              0              0              0   12.509458   \n\n      koi_period_err1  koi_period_err2  koi_time0bk  koi_time0bk_err1  \\\n979      1.985000e-04    -1.985000e-04   379.128480          0.003110   \n6201     1.970000e-06    -1.970000e-06   144.531439          0.000123   \n5648     7.890000e-07    -7.890000e-07   136.559783          0.000044   \n229      5.170000e-05    -5.170000e-05   131.550820          0.003720   \n1302     7.470000e-05    -7.470000e-05   136.992170          0.004600   \n\n      koi_time0bk_err2  ...  koi_steff_err2  koi_slogg  koi_slogg_err1  \\\n979          -0.003110  ...            -189      4.381           0.195   \n6201         -0.000123  ...            -164      4.517           0.060   \n5648         -0.000044  ...            -197      4.444           0.070   \n229          -0.003720  ...               0      4.221           0.188   \n1302         -0.004600  ...            -119      4.303           0.120   \n\n      koi_slogg_err2  koi_srad  koi_srad_err1  koi_srad_err2         ra  \\\n979           -0.214     0.938          0.263         -0.197  289.07703   \n6201          -0.140     0.846          0.184         -0.085  292.21732   \n5648          -0.224     1.022          0.350         -0.117  282.42578   \n229           -0.101     1.250          0.196         -0.240  292.58044   \n1302          -0.108     1.184          0.183         -0.165  295.42200   \n\n            dec  koi_kepmag  \n979   51.761822      14.907  \n6201  49.707901      15.852  \n5648  43.884331      14.558  \n229   46.097389      15.065  \n1302  38.735691      13.860  \n\n[5 rows x 39 columns]",
      "text/html": "<div>\n<style scoped>\n    .dataframe tbody tr th:only-of-type {\n        vertical-align: middle;\n    }\n\n    .dataframe tbody tr th {\n        vertical-align: top;\n    }\n\n    .dataframe thead th {\n        text-align: right;\n    }\n</style>\n<table border=\"1\" class=\"dataframe\">\n  <thead>\n    <tr style=\"text-align: right;\">\n      <th></th>\n      <th>koi_fpflag_nt</th>\n      <th>koi_fpflag_ss</th>\n      <th>koi_fpflag_co</th>\n      <th>koi_fpflag_ec</th>\n      <th>koi_period</th>\n      <th>koi_period_err1</th>\n      <th>koi_period_err2</th>\n      <th>koi_time0bk</th>\n      <th>koi_time0bk_err1</th>\n      <th>koi_time0bk_err2</th>\n      <th>...</th>\n      <th>koi_steff_err2</th>\n      <th>koi_slogg</th>\n      <th>koi_slogg_err1</th>\n      <th>koi_slogg_err2</th>\n      <th>koi_srad</th>\n      <th>koi_srad_err1</th>\n      <th>koi_srad_err2</th>\n      <th>ra</th>\n      <th>dec</th>\n      <th>koi_kepmag</th>\n    </tr>\n  </thead>\n  <tbody>\n    <tr>\n      <th>979</th>\n      <td>0</td>\n      <td>1</td>\n      <td>1</td>\n      <td>1</td>\n      <td>41.077297</td>\n      <td>1.985000e-04</td>\n      <td>-1.985000e-04</td>\n      <td>379.128480</td>\n      <td>0.003110</td>\n      <td>-0.003110</td>\n      <td>...</td>\n      <td>-189</td>\n      <td>4.381</td>\n      <td>0.195</td>\n      <td>-0.214</td>\n      <td>0.938</td>\n      <td>0.263</td>\n      <td>-0.197</td>\n      <td>289.07703</td>\n      <td>51.761822</td>\n      <td>14.907</td>\n    </tr>\n    <tr>\n      <th>6201</th>\n      <td>0</td>\n      <td>1</td>\n      <td>0</td>\n      <td>0</td>\n      <td>13.639480</td>\n      <td>1.970000e-06</td>\n      <td>-1.970000e-06</td>\n      <td>144.531439</td>\n      <td>0.000123</td>\n      <td>-0.000123</td>\n      <td>...</td>\n      <td>-164</td>\n      <td>4.517</td>\n      <td>0.060</td>\n      <td>-0.140</td>\n      <td>0.846</td>\n      <td>0.184</td>\n      <td>-0.085</td>\n      <td>292.21732</td>\n      <td>49.707901</td>\n      <td>15.852</td>\n    </tr>\n    <tr>\n      <th>5648</th>\n      <td>0</td>\n      <td>1</td>\n      <td>0</td>\n      <td>0</td>\n      <td>14.854416</td>\n      <td>7.890000e-07</td>\n      <td>-7.890000e-07</td>\n      <td>136.559783</td>\n      <td>0.000044</td>\n      <td>-0.000044</td>\n      <td>...</td>\n      <td>-197</td>\n      <td>4.444</td>\n      <td>0.070</td>\n      <td>-0.224</td>\n      <td>1.022</td>\n      <td>0.350</td>\n      <td>-0.117</td>\n      <td>282.42578</td>\n      <td>43.884331</td>\n      <td>14.558</td>\n    </tr>\n    <tr>\n      <th>229</th>\n      <td>0</td>\n      <td>0</td>\n      <td>0</td>\n      <td>0</td>\n      <td>10.681695</td>\n      <td>5.170000e-05</td>\n      <td>-5.170000e-05</td>\n      <td>131.550820</td>\n      <td>0.003720</td>\n      <td>-0.003720</td>\n      <td>...</td>\n      <td>0</td>\n      <td>4.221</td>\n      <td>0.188</td>\n      <td>-0.101</td>\n      <td>1.250</td>\n      <td>0.196</td>\n      <td>-0.240</td>\n      <td>292.58044</td>\n      <td>46.097389</td>\n      <td>15.065</td>\n    </tr>\n    <tr>\n      <th>1302</th>\n      <td>0</td>\n      <td>0</td>\n      <td>0</td>\n      <td>0</td>\n      <td>12.509458</td>\n      <td>7.470000e-05</td>\n      <td>-7.470000e-05</td>\n      <td>136.992170</td>\n      <td>0.004600</td>\n      <td>-0.004600</td>\n      <td>...</td>\n      <td>-119</td>\n      <td>4.303</td>\n      <td>0.120</td>\n      <td>-0.108</td>\n      <td>1.184</td>\n      <td>0.183</td>\n      <td>-0.165</td>\n      <td>295.42200</td>\n      <td>38.735691</td>\n      <td>13.860</td>\n    </tr>\n  </tbody>\n</table>\n<p>5 rows × 39 columns</p>\n</div>"
     },
     "metadata": {},
     "execution_count": 7
    }
   ],
   "source": [
    "X_train.head()"
   ]
  },
  {
   "cell_type": "markdown",
   "metadata": {},
   "source": [
    "# Pre-processing\n",
    "\n",
    "Scale the data using the MinMaxScaler and perform some feature selection"
   ]
  },
  {
   "cell_type": "code",
   "execution_count": 8,
   "metadata": {},
   "outputs": [],
   "source": [
    "# Scale your data\n",
    "from sklearn.preprocessing import MinMaxScaler\n",
    "X_scaler = MinMaxScaler().fit(X_train)\n",
    "\n",
    "X_train_scaled = X_scaler.transform(X_train)\n",
    "X_test_scaled = X_scaler.transform(X_test)"
   ]
  },
  {
   "cell_type": "markdown",
   "metadata": {},
   "source": [
    "# Train the Model\n",
    "\n"
   ]
  },
  {
   "cell_type": "code",
   "execution_count": 10,
   "metadata": {
    "tags": []
   },
   "outputs": [
    {
     "output_type": "stream",
     "name": "stdout",
     "text": "Training Data Score: 1.0\nTesting Data Score: 0.9811463046757164\n"
    }
   ],
   "source": [
    "from sklearn.neighbors import KNeighborsClassifier\n",
    "knn = KNeighborsClassifier(n_neighbors=1)\n",
    "knn.fit(X_train_scaled, y_train)\n",
    "\n",
    "print(f\"Training Data Score: {knn.score(X_train_scaled, y_train)}\")\n",
    "print(f\"Testing Data Score: {knn.score(X_test_scaled, y_test)}\")"
   ]
  },
  {
   "cell_type": "code",
   "execution_count": 11,
   "metadata": {
    "tags": []
   },
   "outputs": [
    {
     "output_type": "stream",
     "name": "stdout",
     "text": "precision    recall  f1-score   support\n\nFALSE POSITIVE       0.98      0.99      0.99       875\n     CONFIRMED       0.98      0.96      0.97       451\n\n      accuracy                           0.98      1326\n     macro avg       0.98      0.98      0.98      1326\n  weighted avg       0.98      0.98      0.98      1326\n\n"
    }
   ],
   "source": [
    "from sklearn.metrics import classification_report\n",
    "predictions = knn.predict(X_test_scaled)\n",
    "print(classification_report(y_test, predictions, target_names = target_names))"
   ]
  },
  {
   "cell_type": "markdown",
   "metadata": {},
   "source": [
    "# Hyperparameter Tuning\n",
    "\n",
    "Use `GridSearchCV` to tune the model's parameters"
   ]
  },
  {
   "cell_type": "code",
   "execution_count": 12,
   "metadata": {},
   "outputs": [],
   "source": [
    "# Create the GridSearchCV model\n",
    "from sklearn.model_selection import GridSearchCV\n",
    "\n",
    "param_grid = {'n_neighbors': [1, 3, 5, 11, 19],\n",
    "            'weights': ['uniform', 'distance'],\n",
    "            'metric': ['euclidean', 'manhattan']}\n",
    "\n",
    "model = KNeighborsClassifier()\n",
    "grid = GridSearchCV(model, param_grid, verbose=3)"
   ]
  },
  {
   "cell_type": "code",
   "execution_count": 13,
   "metadata": {
    "tags": []
   },
   "outputs": [
    {
     "output_type": "stream",
     "name": "stdout",
     "text": "Fitting 5 folds for each of 20 candidates, totalling 100 fits\n[CV] metric=euclidean, n_neighbors=1, weights=uniform ................\n[Parallel(n_jobs=1)]: Using backend SequentialBackend with 1 concurrent workers.\n[CV]  metric=euclidean, n_neighbors=1, weights=uniform, score=0.985, total=   1.0s\n[CV] metric=euclidean, n_neighbors=1, weights=uniform ................\n[Parallel(n_jobs=1)]: Done   1 out of   1 | elapsed:    0.9s remaining:    0.0s\n[CV]  metric=euclidean, n_neighbors=1, weights=uniform, score=0.984, total=   0.7s\n[CV] metric=euclidean, n_neighbors=1, weights=uniform ................\n[Parallel(n_jobs=1)]: Done   2 out of   2 | elapsed:    1.5s remaining:    0.0s\n[CV]  metric=euclidean, n_neighbors=1, weights=uniform, score=0.987, total=   0.4s\n[CV] metric=euclidean, n_neighbors=1, weights=uniform ................\n[CV]  metric=euclidean, n_neighbors=1, weights=uniform, score=0.990, total=   0.4s\n[CV] metric=euclidean, n_neighbors=1, weights=uniform ................\n[CV]  metric=euclidean, n_neighbors=1, weights=uniform, score=0.989, total=   0.4s\n[CV] metric=euclidean, n_neighbors=1, weights=distance ...............\n[CV]  metric=euclidean, n_neighbors=1, weights=distance, score=0.985, total=   0.4s\n[CV] metric=euclidean, n_neighbors=1, weights=distance ...............\n[CV]  metric=euclidean, n_neighbors=1, weights=distance, score=0.984, total=   0.3s\n[CV] metric=euclidean, n_neighbors=1, weights=distance ...............\n[CV]  metric=euclidean, n_neighbors=1, weights=distance, score=0.987, total=   0.3s\n[CV] metric=euclidean, n_neighbors=1, weights=distance ...............\n[CV]  metric=euclidean, n_neighbors=1, weights=distance, score=0.990, total=   0.3s\n[CV] metric=euclidean, n_neighbors=1, weights=distance ...............\n[CV]  metric=euclidean, n_neighbors=1, weights=distance, score=0.989, total=   0.2s\n[CV] metric=euclidean, n_neighbors=3, weights=uniform ................\n[CV]  metric=euclidean, n_neighbors=3, weights=uniform, score=0.989, total=   0.4s\n[CV] metric=euclidean, n_neighbors=3, weights=uniform ................\n[CV]  metric=euclidean, n_neighbors=3, weights=uniform, score=0.986, total=   0.4s\n[CV] metric=euclidean, n_neighbors=3, weights=uniform ................\n[CV]  metric=euclidean, n_neighbors=3, weights=uniform, score=0.994, total=   0.4s\n[CV] metric=euclidean, n_neighbors=3, weights=uniform ................\n[CV]  metric=euclidean, n_neighbors=3, weights=uniform, score=0.996, total=   0.3s\n[CV] metric=euclidean, n_neighbors=3, weights=uniform ................\n[CV]  metric=euclidean, n_neighbors=3, weights=uniform, score=0.994, total=   0.3s\n[CV] metric=euclidean, n_neighbors=3, weights=distance ...............\n[CV]  metric=euclidean, n_neighbors=3, weights=distance, score=0.989, total=   0.2s\n[CV] metric=euclidean, n_neighbors=3, weights=distance ...............\n[CV]  metric=euclidean, n_neighbors=3, weights=distance, score=0.985, total=   0.7s\n[CV] metric=euclidean, n_neighbors=3, weights=distance ...............\n[CV]  metric=euclidean, n_neighbors=3, weights=distance, score=0.994, total=   0.7s\n[CV] metric=euclidean, n_neighbors=3, weights=distance ...............\n[CV]  metric=euclidean, n_neighbors=3, weights=distance, score=0.996, total=   0.5s\n[CV] metric=euclidean, n_neighbors=3, weights=distance ...............\n[CV]  metric=euclidean, n_neighbors=3, weights=distance, score=0.994, total=   0.4s\n[CV] metric=euclidean, n_neighbors=5, weights=uniform ................\n[CV]  metric=euclidean, n_neighbors=5, weights=uniform, score=0.989, total=   0.5s\n[CV] metric=euclidean, n_neighbors=5, weights=uniform ................\n[CV]  metric=euclidean, n_neighbors=5, weights=uniform, score=0.986, total=   0.4s\n[CV] metric=euclidean, n_neighbors=5, weights=uniform ................\n[CV]  metric=euclidean, n_neighbors=5, weights=uniform, score=0.994, total=   0.3s\n[CV] metric=euclidean, n_neighbors=5, weights=uniform ................\n[CV]  metric=euclidean, n_neighbors=5, weights=uniform, score=0.997, total=   0.3s\n[CV] metric=euclidean, n_neighbors=5, weights=uniform ................\n[CV]  metric=euclidean, n_neighbors=5, weights=uniform, score=0.994, total=   0.4s\n[CV] metric=euclidean, n_neighbors=5, weights=distance ...............\n[CV]  metric=euclidean, n_neighbors=5, weights=distance, score=0.989, total=   0.2s\n[CV] metric=euclidean, n_neighbors=5, weights=distance ...............\n[CV]  metric=euclidean, n_neighbors=5, weights=distance, score=0.986, total=   0.4s\n[CV] metric=euclidean, n_neighbors=5, weights=distance ...............\n[CV]  metric=euclidean, n_neighbors=5, weights=distance, score=0.994, total=   0.3s\n[CV] metric=euclidean, n_neighbors=5, weights=distance ...............\n[CV]  metric=euclidean, n_neighbors=5, weights=distance, score=0.997, total=   0.2s\n[CV] metric=euclidean, n_neighbors=5, weights=distance ...............\n[CV]  metric=euclidean, n_neighbors=5, weights=distance, score=0.994, total=   0.2s\n[CV] metric=euclidean, n_neighbors=11, weights=uniform ...............\n[CV]  metric=euclidean, n_neighbors=11, weights=uniform, score=0.989, total=   0.3s\n[CV] metric=euclidean, n_neighbors=11, weights=uniform ...............\n[CV]  metric=euclidean, n_neighbors=11, weights=uniform, score=0.986, total=   0.3s\n[CV] metric=euclidean, n_neighbors=11, weights=uniform ...............\n[CV]  metric=euclidean, n_neighbors=11, weights=uniform, score=0.994, total=   1.0s\n[CV] metric=euclidean, n_neighbors=11, weights=uniform ...............\n[CV]  metric=euclidean, n_neighbors=11, weights=uniform, score=0.997, total=   0.9s\n[CV] metric=euclidean, n_neighbors=11, weights=uniform ...............\n[CV]  metric=euclidean, n_neighbors=11, weights=uniform, score=0.994, total=   0.6s\n[CV] metric=euclidean, n_neighbors=11, weights=distance ..............\n[CV]  metric=euclidean, n_neighbors=11, weights=distance, score=0.989, total=   0.3s\n[CV] metric=euclidean, n_neighbors=11, weights=distance ..............\n[CV]  metric=euclidean, n_neighbors=11, weights=distance, score=0.986, total=   0.4s\n[CV] metric=euclidean, n_neighbors=11, weights=distance ..............\n[CV]  metric=euclidean, n_neighbors=11, weights=distance, score=0.994, total=   0.3s\n[CV] metric=euclidean, n_neighbors=11, weights=distance ..............\n[CV]  metric=euclidean, n_neighbors=11, weights=distance, score=0.997, total=   0.3s\n[CV] metric=euclidean, n_neighbors=11, weights=distance ..............\n[CV]  metric=euclidean, n_neighbors=11, weights=distance, score=0.994, total=   0.3s\n[CV] metric=euclidean, n_neighbors=19, weights=uniform ...............\n[CV]  metric=euclidean, n_neighbors=19, weights=uniform, score=0.989, total=   0.2s\n[CV] metric=euclidean, n_neighbors=19, weights=uniform ...............\n[CV]  metric=euclidean, n_neighbors=19, weights=uniform, score=0.986, total=   0.4s\n[CV] metric=euclidean, n_neighbors=19, weights=uniform ...............\n[CV]  metric=euclidean, n_neighbors=19, weights=uniform, score=0.994, total=   0.2s\n[CV] metric=euclidean, n_neighbors=19, weights=uniform ...............\n[CV]  metric=euclidean, n_neighbors=19, weights=uniform, score=0.997, total=   0.2s\n[CV] metric=euclidean, n_neighbors=19, weights=uniform ...............\n[CV]  metric=euclidean, n_neighbors=19, weights=uniform, score=0.994, total=   0.2s\n[CV] metric=euclidean, n_neighbors=19, weights=distance ..............\n[CV]  metric=euclidean, n_neighbors=19, weights=distance, score=0.989, total=   0.2s\n[CV] metric=euclidean, n_neighbors=19, weights=distance ..............\n[CV]  metric=euclidean, n_neighbors=19, weights=distance, score=0.986, total=   0.2s\n[CV] metric=euclidean, n_neighbors=19, weights=distance ..............\n[CV]  metric=euclidean, n_neighbors=19, weights=distance, score=0.994, total=   0.2s\n[CV] metric=euclidean, n_neighbors=19, weights=distance ..............\n[CV]  metric=euclidean, n_neighbors=19, weights=distance, score=0.997, total=   0.2s\n[CV] metric=euclidean, n_neighbors=19, weights=distance ..............\n[CV]  metric=euclidean, n_neighbors=19, weights=distance, score=0.994, total=   0.2s\n[CV] metric=manhattan, n_neighbors=1, weights=uniform ................\n[CV]  metric=manhattan, n_neighbors=1, weights=uniform, score=0.984, total=   0.2s\n[CV] metric=manhattan, n_neighbors=1, weights=uniform ................\n[CV]  metric=manhattan, n_neighbors=1, weights=uniform, score=0.985, total=   0.3s\n[CV] metric=manhattan, n_neighbors=1, weights=uniform ................\n[CV]  metric=manhattan, n_neighbors=1, weights=uniform, score=0.987, total=   0.2s\n[CV] metric=manhattan, n_neighbors=1, weights=uniform ................\n[CV]  metric=manhattan, n_neighbors=1, weights=uniform, score=0.992, total=   0.7s\n[CV] metric=manhattan, n_neighbors=1, weights=uniform ................\n[CV]  metric=manhattan, n_neighbors=1, weights=uniform, score=0.990, total=   0.9s\n[CV] metric=manhattan, n_neighbors=1, weights=distance ...............\n[CV]  metric=manhattan, n_neighbors=1, weights=distance, score=0.984, total=   0.4s\n[CV] metric=manhattan, n_neighbors=1, weights=distance ...............\n[CV]  metric=manhattan, n_neighbors=1, weights=distance, score=0.985, total=   0.6s\n[CV] metric=manhattan, n_neighbors=1, weights=distance ...............\n[CV]  metric=manhattan, n_neighbors=1, weights=distance, score=0.987, total=   0.4s\n[CV] metric=manhattan, n_neighbors=1, weights=distance ...............\n[CV]  metric=manhattan, n_neighbors=1, weights=distance, score=0.992, total=   0.4s\n[CV] metric=manhattan, n_neighbors=1, weights=distance ...............\n[CV]  metric=manhattan, n_neighbors=1, weights=distance, score=0.990, total=   0.3s\n[CV] metric=manhattan, n_neighbors=3, weights=uniform ................\n[CV]  metric=manhattan, n_neighbors=3, weights=uniform, score=0.987, total=   0.4s\n[CV] metric=manhattan, n_neighbors=3, weights=uniform ................\n[CV]  metric=manhattan, n_neighbors=3, weights=uniform, score=0.987, total=   0.3s\n[CV] metric=manhattan, n_neighbors=3, weights=uniform ................\n[CV]  metric=manhattan, n_neighbors=3, weights=uniform, score=0.995, total=   0.7s\n[CV] metric=manhattan, n_neighbors=3, weights=uniform ................\n[CV]  metric=manhattan, n_neighbors=3, weights=uniform, score=0.999, total=   1.0s\n[CV] metric=manhattan, n_neighbors=3, weights=uniform ................\n[CV]  metric=manhattan, n_neighbors=3, weights=uniform, score=0.992, total=   0.7s\n[CV] metric=manhattan, n_neighbors=3, weights=distance ...............\n[CV]  metric=manhattan, n_neighbors=3, weights=distance, score=0.987, total=   0.4s\n[CV] metric=manhattan, n_neighbors=3, weights=distance ...............\n[CV]  metric=manhattan, n_neighbors=3, weights=distance, score=0.987, total=   0.5s\n[CV] metric=manhattan, n_neighbors=3, weights=distance ...............\n[CV]  metric=manhattan, n_neighbors=3, weights=distance, score=0.995, total=   0.3s\n[CV] metric=manhattan, n_neighbors=3, weights=distance ...............\n[CV]  metric=manhattan, n_neighbors=3, weights=distance, score=0.999, total=   0.3s\n[CV] metric=manhattan, n_neighbors=3, weights=distance ...............\n[CV]  metric=manhattan, n_neighbors=3, weights=distance, score=0.992, total=   0.2s\n[CV] metric=manhattan, n_neighbors=5, weights=uniform ................\n[CV]  metric=manhattan, n_neighbors=5, weights=uniform, score=0.989, total=   0.4s\n[CV] metric=manhattan, n_neighbors=5, weights=uniform ................\n[CV]  metric=manhattan, n_neighbors=5, weights=uniform, score=0.986, total=   0.4s\n[CV] metric=manhattan, n_neighbors=5, weights=uniform ................\n[CV]  metric=manhattan, n_neighbors=5, weights=uniform, score=0.994, total=   0.3s\n[CV] metric=manhattan, n_neighbors=5, weights=uniform ................\n[CV]  metric=manhattan, n_neighbors=5, weights=uniform, score=0.997, total=   0.6s\n[CV] metric=manhattan, n_neighbors=5, weights=uniform ................\n[CV]  metric=manhattan, n_neighbors=5, weights=uniform, score=0.994, total=   0.5s\n[CV] metric=manhattan, n_neighbors=5, weights=distance ...............\n[CV]  metric=manhattan, n_neighbors=5, weights=distance, score=0.989, total=   0.6s\n[CV] metric=manhattan, n_neighbors=5, weights=distance ...............\n[CV]  metric=manhattan, n_neighbors=5, weights=distance, score=0.986, total=   0.5s\n[CV] metric=manhattan, n_neighbors=5, weights=distance ...............\n[CV]  metric=manhattan, n_neighbors=5, weights=distance, score=0.994, total=   0.5s\n[CV] metric=manhattan, n_neighbors=5, weights=distance ...............\n[CV]  metric=manhattan, n_neighbors=5, weights=distance, score=0.999, total=   0.4s\n[CV] metric=manhattan, n_neighbors=5, weights=distance ...............\n[CV]  metric=manhattan, n_neighbors=5, weights=distance, score=0.994, total=   0.4s\n[CV] metric=manhattan, n_neighbors=11, weights=uniform ...............\n[CV]  metric=manhattan, n_neighbors=11, weights=uniform, score=0.989, total=   0.4s\n[CV] metric=manhattan, n_neighbors=11, weights=uniform ...............\n[CV]  metric=manhattan, n_neighbors=11, weights=uniform, score=0.986, total=   0.4s\n[CV] metric=manhattan, n_neighbors=11, weights=uniform ...............\n[CV]  metric=manhattan, n_neighbors=11, weights=uniform, score=0.994, total=   0.4s\n[CV] metric=manhattan, n_neighbors=11, weights=uniform ...............\n[CV]  metric=manhattan, n_neighbors=11, weights=uniform, score=0.997, total=   0.3s\n[CV] metric=manhattan, n_neighbors=11, weights=uniform ...............\n[CV]  metric=manhattan, n_neighbors=11, weights=uniform, score=0.994, total=   0.3s\n[CV] metric=manhattan, n_neighbors=11, weights=distance ..............\n[CV]  metric=manhattan, n_neighbors=11, weights=distance, score=0.989, total=   0.3s\n[CV] metric=manhattan, n_neighbors=11, weights=distance ..............\n[CV]  metric=manhattan, n_neighbors=11, weights=distance, score=0.986, total=   0.6s\n[CV] metric=manhattan, n_neighbors=11, weights=distance ..............\n[CV]  metric=manhattan, n_neighbors=11, weights=distance, score=0.994, total=   0.5s\n[CV] metric=manhattan, n_neighbors=11, weights=distance ..............\n[CV]  metric=manhattan, n_neighbors=11, weights=distance, score=0.999, total=   0.5s\n[CV] metric=manhattan, n_neighbors=11, weights=distance ..............\n[CV]  metric=manhattan, n_neighbors=11, weights=distance, score=0.994, total=   0.5s\n[CV] metric=manhattan, n_neighbors=19, weights=uniform ...............\n[CV]  metric=manhattan, n_neighbors=19, weights=uniform, score=0.989, total=   0.6s\n[CV] metric=manhattan, n_neighbors=19, weights=uniform ...............\n[CV]  metric=manhattan, n_neighbors=19, weights=uniform, score=0.986, total=   0.5s\n[CV] metric=manhattan, n_neighbors=19, weights=uniform ...............\n[CV]  metric=manhattan, n_neighbors=19, weights=uniform, score=0.994, total=   0.5s\n[CV] metric=manhattan, n_neighbors=19, weights=uniform ...............\n[CV]  metric=manhattan, n_neighbors=19, weights=uniform, score=0.997, total=   0.5s\n[CV] metric=manhattan, n_neighbors=19, weights=uniform ...............\n[CV]  metric=manhattan, n_neighbors=19, weights=uniform, score=0.994, total=   0.4s\n[CV] metric=manhattan, n_neighbors=19, weights=distance ..............\n[CV]  metric=manhattan, n_neighbors=19, weights=distance, score=0.989, total=   0.3s\n[CV] metric=manhattan, n_neighbors=19, weights=distance ..............\n[CV]  metric=manhattan, n_neighbors=19, weights=distance, score=0.986, total=   0.3s\n[CV] metric=manhattan, n_neighbors=19, weights=distance ..............\n[CV]  metric=manhattan, n_neighbors=19, weights=distance, score=0.994, total=   0.3s\n[CV] metric=manhattan, n_neighbors=19, weights=distance ..............\n[CV]  metric=manhattan, n_neighbors=19, weights=distance, score=0.997, total=   0.2s\n[CV] metric=manhattan, n_neighbors=19, weights=distance ..............\n[CV]  metric=manhattan, n_neighbors=19, weights=distance, score=0.994, total=   0.2s\n[Parallel(n_jobs=1)]: Done 100 out of 100 | elapsed:   40.4s finished\n"
    },
    {
     "output_type": "execute_result",
     "data": {
      "text/plain": "GridSearchCV(estimator=KNeighborsClassifier(),\n             param_grid={'metric': ['euclidean', 'manhattan'],\n                         'n_neighbors': [1, 3, 5, 11, 19],\n                         'weights': ['uniform', 'distance']},\n             verbose=3)"
     },
     "metadata": {},
     "execution_count": 13
    }
   ],
   "source": [
    "# Train the model with GridSearch\n",
    "grid.fit(X_train_scaled, y_train)"
   ]
  },
  {
   "cell_type": "code",
   "execution_count": 14,
   "metadata": {
    "tags": []
   },
   "outputs": [
    {
     "output_type": "stream",
     "name": "stdout",
     "text": "{'metric': 'manhattan', 'n_neighbors': 5, 'weights': 'distance'}\n0.99220915900256\n"
    }
   ],
   "source": [
    "print(grid.best_params_)\n",
    "print(grid.best_score_)"
   ]
  },
  {
   "cell_type": "code",
   "execution_count": 15,
   "metadata": {
    "tags": []
   },
   "outputs": [
    {
     "output_type": "stream",
     "name": "stdout",
     "text": "precision    recall  f1-score   support\n\nFALSE POSITIVE       0.98      1.00      0.99       875\n     CONFIRMED       1.00      0.96      0.98       451\n\n      accuracy                           0.99      1326\n     macro avg       0.99      0.98      0.98      1326\n  weighted avg       0.99      0.99      0.99      1326\n\n"
    }
   ],
   "source": [
    "predictions = grid.predict(X_test_scaled)\n",
    "print(classification_report(y_test, predictions, target_names=target_names))"
   ]
  },
  {
   "cell_type": "code",
   "execution_count": 16,
   "metadata": {
    "tags": []
   },
   "outputs": [
    {
     "output_type": "stream",
     "name": "stdout",
     "text": "Training Data Score: 1.0\nTesting Data Score: 0.9864253393665159\n"
    }
   ],
   "source": [
    "# Fit the hypertuned model to scaled data and get training and testing scores\n",
    "knn_tuned = KNeighborsClassifier(metric='manhattan', n_neighbors=5, weights='distance')\n",
    "knn_tuned.fit(X_train_scaled, y_train)\n",
    "\n",
    "print(f\"Training Data Score: {knn_tuned.score(X_train_scaled, y_train)}\")\n",
    "print(f\"Testing Data Score: {knn_tuned.score(X_test_scaled, y_test)}\")"
   ]
  },
  {
   "cell_type": "markdown",
   "metadata": {},
   "source": [
    "# Save the Model"
   ]
  },
  {
   "cell_type": "code",
   "execution_count": 17,
   "metadata": {},
   "outputs": [
    {
     "output_type": "execute_result",
     "data": {
      "text/plain": "['final_model.sav']"
     },
     "metadata": {},
     "execution_count": 17
    }
   ],
   "source": [
    "# save your model by updating \"your_name\" with your name\n",
    "# and \"your_model\" with your model variable\n",
    "# be sure to turn this in to BCS\n",
    "# if joblib fails to import, try running the command to install in terminal/git-bash\n",
    "import joblib\n",
    "filename = 'final_model.sav'\n",
    "joblib.dump(knn_tuned, filename)"
   ]
  },
  {
   "cell_type": "code",
   "execution_count": null,
   "metadata": {},
   "outputs": [],
   "source": []
  }
 ],
 "metadata": {
  "kernel_info": {
   "name": "dev"
  },
  "kernelspec": {
   "display_name": "Python 3.6.10 64-bit ('PythonAdv': conda)",
   "language": "python",
   "name": "python_defaultSpec_1596382351404"
  },
  "language_info": {
   "codemirror_mode": {
    "name": "ipython",
    "version": 3
   },
   "file_extension": ".py",
   "mimetype": "text/x-python",
   "name": "python",
   "nbconvert_exporter": "python",
   "pygments_lexer": "ipython3",
   "version": "3.6.10-final"
  },
  "nteract": {
   "version": "0.12.3"
  }
 },
 "nbformat": 4,
 "nbformat_minor": 2
}