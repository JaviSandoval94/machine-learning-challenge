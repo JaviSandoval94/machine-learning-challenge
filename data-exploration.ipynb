{
 "cells": [
  {
   "cell_type": "markdown",
   "metadata": {},
   "source": [
    "# Data exploration"
   ]
  },
  {
   "cell_type": "markdown",
   "metadata": {},
   "source": [
    "This noteboook explores the original dataset to identify relevant trends and potential features to generate machine learning classification models. All data comes from the Kepler Exoplanet Search Results dataset (https://www.kaggle.com/nasa/kepler-exoplanet-search-results). Further documentation on the specific content of each of the columns can be found here: https://exoplanetarchive.ipac.caltech.edu/docs/API_kepcandidate_columns.html\n",
    "\n",
    "The data columns are classified into two different groups:\n",
    "- Non-categorical: This are features with continuous values. For this category, IQR's are calculated for each feature and a potential outlier count is presented based on this metric.\n",
    "- Categorical: Every feature containing less than 10 distinct values is labeled as a categorical feature. The value counts of each one of such features is presented in this notebook."
   ]
  },
  {
   "cell_type": "code",
   "execution_count": 18,
   "metadata": {},
   "outputs": [],
   "source": [
    "# Import dependencies\n",
    "import pandas as pd\n",
    "import matplotlib.pyplot as plt"
   ]
  },
  {
   "cell_type": "code",
   "execution_count": 2,
   "metadata": {},
   "outputs": [
    {
     "data": {
      "text/html": [
       "<div>\n",
       "<style scoped>\n",
       "    .dataframe tbody tr th:only-of-type {\n",
       "        vertical-align: middle;\n",
       "    }\n",
       "\n",
       "    .dataframe tbody tr th {\n",
       "        vertical-align: top;\n",
       "    }\n",
       "\n",
       "    .dataframe thead th {\n",
       "        text-align: right;\n",
       "    }\n",
       "</style>\n",
       "<table border=\"1\" class=\"dataframe\">\n",
       "  <thead>\n",
       "    <tr style=\"text-align: right;\">\n",
       "      <th></th>\n",
       "      <th>koi_disposition</th>\n",
       "      <th>koi_fpflag_nt</th>\n",
       "      <th>koi_fpflag_ss</th>\n",
       "      <th>koi_fpflag_co</th>\n",
       "      <th>koi_fpflag_ec</th>\n",
       "      <th>koi_period</th>\n",
       "      <th>koi_period_err1</th>\n",
       "      <th>koi_period_err2</th>\n",
       "      <th>koi_time0bk</th>\n",
       "      <th>koi_time0bk_err1</th>\n",
       "      <th>...</th>\n",
       "      <th>koi_steff_err2</th>\n",
       "      <th>koi_slogg</th>\n",
       "      <th>koi_slogg_err1</th>\n",
       "      <th>koi_slogg_err2</th>\n",
       "      <th>koi_srad</th>\n",
       "      <th>koi_srad_err1</th>\n",
       "      <th>koi_srad_err2</th>\n",
       "      <th>ra</th>\n",
       "      <th>dec</th>\n",
       "      <th>koi_kepmag</th>\n",
       "    </tr>\n",
       "  </thead>\n",
       "  <tbody>\n",
       "    <tr>\n",
       "      <th>0</th>\n",
       "      <td>CONFIRMED</td>\n",
       "      <td>0</td>\n",
       "      <td>0</td>\n",
       "      <td>0</td>\n",
       "      <td>0</td>\n",
       "      <td>54.418383</td>\n",
       "      <td>2.479000e-04</td>\n",
       "      <td>-2.479000e-04</td>\n",
       "      <td>162.513840</td>\n",
       "      <td>0.003520</td>\n",
       "      <td>...</td>\n",
       "      <td>-81</td>\n",
       "      <td>4.467</td>\n",
       "      <td>0.064</td>\n",
       "      <td>-0.096</td>\n",
       "      <td>0.927</td>\n",
       "      <td>0.105</td>\n",
       "      <td>-0.061</td>\n",
       "      <td>291.93423</td>\n",
       "      <td>48.141651</td>\n",
       "      <td>15.347</td>\n",
       "    </tr>\n",
       "    <tr>\n",
       "      <th>1</th>\n",
       "      <td>FALSE POSITIVE</td>\n",
       "      <td>0</td>\n",
       "      <td>1</td>\n",
       "      <td>0</td>\n",
       "      <td>0</td>\n",
       "      <td>19.899140</td>\n",
       "      <td>1.490000e-05</td>\n",
       "      <td>-1.490000e-05</td>\n",
       "      <td>175.850252</td>\n",
       "      <td>0.000581</td>\n",
       "      <td>...</td>\n",
       "      <td>-176</td>\n",
       "      <td>4.544</td>\n",
       "      <td>0.044</td>\n",
       "      <td>-0.176</td>\n",
       "      <td>0.868</td>\n",
       "      <td>0.233</td>\n",
       "      <td>-0.078</td>\n",
       "      <td>297.00482</td>\n",
       "      <td>48.134129</td>\n",
       "      <td>15.436</td>\n",
       "    </tr>\n",
       "    <tr>\n",
       "      <th>2</th>\n",
       "      <td>FALSE POSITIVE</td>\n",
       "      <td>0</td>\n",
       "      <td>1</td>\n",
       "      <td>0</td>\n",
       "      <td>0</td>\n",
       "      <td>1.736952</td>\n",
       "      <td>2.630000e-07</td>\n",
       "      <td>-2.630000e-07</td>\n",
       "      <td>170.307565</td>\n",
       "      <td>0.000115</td>\n",
       "      <td>...</td>\n",
       "      <td>-174</td>\n",
       "      <td>4.564</td>\n",
       "      <td>0.053</td>\n",
       "      <td>-0.168</td>\n",
       "      <td>0.791</td>\n",
       "      <td>0.201</td>\n",
       "      <td>-0.067</td>\n",
       "      <td>285.53461</td>\n",
       "      <td>48.285210</td>\n",
       "      <td>15.597</td>\n",
       "    </tr>\n",
       "    <tr>\n",
       "      <th>3</th>\n",
       "      <td>CONFIRMED</td>\n",
       "      <td>0</td>\n",
       "      <td>0</td>\n",
       "      <td>0</td>\n",
       "      <td>0</td>\n",
       "      <td>2.525592</td>\n",
       "      <td>3.760000e-06</td>\n",
       "      <td>-3.760000e-06</td>\n",
       "      <td>171.595550</td>\n",
       "      <td>0.001130</td>\n",
       "      <td>...</td>\n",
       "      <td>-211</td>\n",
       "      <td>4.438</td>\n",
       "      <td>0.070</td>\n",
       "      <td>-0.210</td>\n",
       "      <td>1.046</td>\n",
       "      <td>0.334</td>\n",
       "      <td>-0.133</td>\n",
       "      <td>288.75488</td>\n",
       "      <td>48.226200</td>\n",
       "      <td>15.509</td>\n",
       "    </tr>\n",
       "    <tr>\n",
       "      <th>4</th>\n",
       "      <td>CONFIRMED</td>\n",
       "      <td>0</td>\n",
       "      <td>0</td>\n",
       "      <td>0</td>\n",
       "      <td>0</td>\n",
       "      <td>4.134435</td>\n",
       "      <td>1.050000e-05</td>\n",
       "      <td>-1.050000e-05</td>\n",
       "      <td>172.979370</td>\n",
       "      <td>0.001900</td>\n",
       "      <td>...</td>\n",
       "      <td>-232</td>\n",
       "      <td>4.486</td>\n",
       "      <td>0.054</td>\n",
       "      <td>-0.229</td>\n",
       "      <td>0.972</td>\n",
       "      <td>0.315</td>\n",
       "      <td>-0.105</td>\n",
       "      <td>296.28613</td>\n",
       "      <td>48.224670</td>\n",
       "      <td>15.714</td>\n",
       "    </tr>\n",
       "  </tbody>\n",
       "</table>\n",
       "<p>5 rows × 41 columns</p>\n",
       "</div>"
      ],
      "text/plain": [
       "  koi_disposition  koi_fpflag_nt  koi_fpflag_ss  koi_fpflag_co  koi_fpflag_ec  \\\n",
       "0       CONFIRMED              0              0              0              0   \n",
       "1  FALSE POSITIVE              0              1              0              0   \n",
       "2  FALSE POSITIVE              0              1              0              0   \n",
       "3       CONFIRMED              0              0              0              0   \n",
       "4       CONFIRMED              0              0              0              0   \n",
       "\n",
       "   koi_period  koi_period_err1  koi_period_err2  koi_time0bk  \\\n",
       "0   54.418383     2.479000e-04    -2.479000e-04   162.513840   \n",
       "1   19.899140     1.490000e-05    -1.490000e-05   175.850252   \n",
       "2    1.736952     2.630000e-07    -2.630000e-07   170.307565   \n",
       "3    2.525592     3.760000e-06    -3.760000e-06   171.595550   \n",
       "4    4.134435     1.050000e-05    -1.050000e-05   172.979370   \n",
       "\n",
       "   koi_time0bk_err1  ...  koi_steff_err2  koi_slogg  koi_slogg_err1  \\\n",
       "0          0.003520  ...             -81      4.467           0.064   \n",
       "1          0.000581  ...            -176      4.544           0.044   \n",
       "2          0.000115  ...            -174      4.564           0.053   \n",
       "3          0.001130  ...            -211      4.438           0.070   \n",
       "4          0.001900  ...            -232      4.486           0.054   \n",
       "\n",
       "   koi_slogg_err2  koi_srad  koi_srad_err1  koi_srad_err2         ra  \\\n",
       "0          -0.096     0.927          0.105         -0.061  291.93423   \n",
       "1          -0.176     0.868          0.233         -0.078  297.00482   \n",
       "2          -0.168     0.791          0.201         -0.067  285.53461   \n",
       "3          -0.210     1.046          0.334         -0.133  288.75488   \n",
       "4          -0.229     0.972          0.315         -0.105  296.28613   \n",
       "\n",
       "         dec  koi_kepmag  \n",
       "0  48.141651      15.347  \n",
       "1  48.134129      15.436  \n",
       "2  48.285210      15.597  \n",
       "3  48.226200      15.509  \n",
       "4  48.224670      15.714  \n",
       "\n",
       "[5 rows x 41 columns]"
      ]
     },
     "execution_count": 2,
     "metadata": {},
     "output_type": "execute_result"
    }
   ],
   "source": [
    "# Get data from file\n",
    "url = \"resources/exoplanet_data.csv\"\n",
    "data = pd.read_csv(url)\n",
    "data.head()"
   ]
  },
  {
   "cell_type": "code",
   "execution_count": 46,
   "metadata": {},
   "outputs": [
    {
     "name": "stdout",
     "output_type": "stream",
     "text": [
      "Feature name: koi_disposition   Distinct value count: 3\n",
      "Feature name: koi_fpflag_nt   Distinct value count: 2\n",
      "Feature name: koi_fpflag_ss   Distinct value count: 2\n",
      "Feature name: koi_fpflag_co   Distinct value count: 2\n",
      "Feature name: koi_fpflag_ec   Distinct value count: 2\n",
      "Feature name: koi_period   Distinct value count: 6991\n",
      "Feature name: koi_period_err1   Distinct value count: 4105\n",
      "Feature name: koi_period_err2   Distinct value count: 4105\n",
      "Feature name: koi_time0bk   Distinct value count: 6978\n",
      "Feature name: koi_time0bk_err1   Distinct value count: 2302\n",
      "Feature name: koi_time0bk_err2   Distinct value count: 2302\n",
      "Feature name: koi_impact   Distinct value count: 1975\n",
      "Feature name: koi_impact_err1   Distinct value count: 1722\n",
      "Feature name: koi_impact_err2   Distinct value count: 1499\n",
      "Feature name: koi_duration   Distinct value count: 6077\n",
      "Feature name: koi_duration_err1   Distinct value count: 2093\n",
      "Feature name: koi_duration_err2   Distinct value count: 2093\n",
      "Feature name: koi_depth   Distinct value count: 5596\n",
      "Feature name: koi_depth_err1   Distinct value count: 1290\n",
      "Feature name: koi_depth_err2   Distinct value count: 1290\n",
      "Feature name: koi_prad   Distinct value count: 2454\n",
      "Feature name: koi_prad_err1   Distinct value count: 1551\n",
      "Feature name: koi_prad_err2   Distinct value count: 1344\n",
      "Feature name: koi_teq   Distinct value count: 2312\n",
      "Feature name: koi_insol   Distinct value count: 6141\n",
      "Feature name: koi_insol_err1   Distinct value count: 5708\n",
      "Feature name: koi_insol_err2   Distinct value count: 5299\n",
      "Feature name: koi_model_snr   Distinct value count: 2306\n",
      "Feature name: koi_tce_plnt_num   Distinct value count: 8\n",
      "Feature name: koi_steff   Distinct value count: 2209\n",
      "Feature name: koi_steff_err1   Distinct value count: 256\n",
      "Feature name: koi_steff_err2   Distinct value count: 354\n",
      "Feature name: koi_slogg   Distinct value count: 1436\n",
      "Feature name: koi_slogg_err1   Distinct value count: 514\n",
      "Feature name: koi_slogg_err2   Distinct value count: 402\n",
      "Feature name: koi_srad   Distinct value count: 2028\n",
      "Feature name: koi_srad_err1   Distinct value count: 1044\n",
      "Feature name: koi_srad_err2   Distinct value count: 1229\n",
      "Feature name: ra   Distinct value count: 6170\n",
      "Feature name: dec   Distinct value count: 6200\n",
      "Feature name: koi_kepmag   Distinct value count: 3370\n"
     ]
    }
   ],
   "source": [
    "# Get column names\n",
    "for column in data.columns:\n",
    "    print(f\"Feature name: {column}   Distinct value count: {data[column].value_counts().count()}\")"
   ]
  },
  {
   "cell_type": "markdown",
   "metadata": {},
   "source": [
    "## Non-categorical features exploration"
   ]
  },
  {
   "cell_type": "code",
   "execution_count": 13,
   "metadata": {},
   "outputs": [
    {
     "data": {
      "text/html": [
       "<div>\n",
       "<style scoped>\n",
       "    .dataframe tbody tr th:only-of-type {\n",
       "        vertical-align: middle;\n",
       "    }\n",
       "\n",
       "    .dataframe tbody tr th {\n",
       "        vertical-align: top;\n",
       "    }\n",
       "\n",
       "    .dataframe thead th {\n",
       "        text-align: right;\n",
       "    }\n",
       "</style>\n",
       "<table border=\"1\" class=\"dataframe\">\n",
       "  <thead>\n",
       "    <tr style=\"text-align: right;\">\n",
       "      <th></th>\n",
       "      <th>koi_period</th>\n",
       "      <th>koi_period_err1</th>\n",
       "      <th>koi_period_err2</th>\n",
       "      <th>koi_time0bk</th>\n",
       "      <th>koi_time0bk_err1</th>\n",
       "      <th>koi_time0bk_err2</th>\n",
       "      <th>koi_impact</th>\n",
       "      <th>koi_impact_err1</th>\n",
       "      <th>koi_impact_err2</th>\n",
       "      <th>koi_duration</th>\n",
       "      <th>...</th>\n",
       "      <th>koi_steff_err2</th>\n",
       "      <th>koi_slogg</th>\n",
       "      <th>koi_slogg_err1</th>\n",
       "      <th>koi_slogg_err2</th>\n",
       "      <th>koi_srad</th>\n",
       "      <th>koi_srad_err1</th>\n",
       "      <th>koi_srad_err2</th>\n",
       "      <th>ra</th>\n",
       "      <th>dec</th>\n",
       "      <th>koi_kepmag</th>\n",
       "    </tr>\n",
       "  </thead>\n",
       "  <tbody>\n",
       "    <tr>\n",
       "      <th>0</th>\n",
       "      <td>54.418383</td>\n",
       "      <td>2.479000e-04</td>\n",
       "      <td>-2.479000e-04</td>\n",
       "      <td>162.513840</td>\n",
       "      <td>0.003520</td>\n",
       "      <td>-0.003520</td>\n",
       "      <td>0.586</td>\n",
       "      <td>0.059</td>\n",
       "      <td>-0.443</td>\n",
       "      <td>4.50700</td>\n",
       "      <td>...</td>\n",
       "      <td>-81</td>\n",
       "      <td>4.467</td>\n",
       "      <td>0.064</td>\n",
       "      <td>-0.096</td>\n",
       "      <td>0.927</td>\n",
       "      <td>0.105</td>\n",
       "      <td>-0.061</td>\n",
       "      <td>291.93423</td>\n",
       "      <td>48.141651</td>\n",
       "      <td>15.347</td>\n",
       "    </tr>\n",
       "    <tr>\n",
       "      <th>1</th>\n",
       "      <td>19.899140</td>\n",
       "      <td>1.490000e-05</td>\n",
       "      <td>-1.490000e-05</td>\n",
       "      <td>175.850252</td>\n",
       "      <td>0.000581</td>\n",
       "      <td>-0.000581</td>\n",
       "      <td>0.969</td>\n",
       "      <td>5.126</td>\n",
       "      <td>-0.077</td>\n",
       "      <td>1.78220</td>\n",
       "      <td>...</td>\n",
       "      <td>-176</td>\n",
       "      <td>4.544</td>\n",
       "      <td>0.044</td>\n",
       "      <td>-0.176</td>\n",
       "      <td>0.868</td>\n",
       "      <td>0.233</td>\n",
       "      <td>-0.078</td>\n",
       "      <td>297.00482</td>\n",
       "      <td>48.134129</td>\n",
       "      <td>15.436</td>\n",
       "    </tr>\n",
       "    <tr>\n",
       "      <th>2</th>\n",
       "      <td>1.736952</td>\n",
       "      <td>2.630000e-07</td>\n",
       "      <td>-2.630000e-07</td>\n",
       "      <td>170.307565</td>\n",
       "      <td>0.000115</td>\n",
       "      <td>-0.000115</td>\n",
       "      <td>1.276</td>\n",
       "      <td>0.115</td>\n",
       "      <td>-0.092</td>\n",
       "      <td>2.40641</td>\n",
       "      <td>...</td>\n",
       "      <td>-174</td>\n",
       "      <td>4.564</td>\n",
       "      <td>0.053</td>\n",
       "      <td>-0.168</td>\n",
       "      <td>0.791</td>\n",
       "      <td>0.201</td>\n",
       "      <td>-0.067</td>\n",
       "      <td>285.53461</td>\n",
       "      <td>48.285210</td>\n",
       "      <td>15.597</td>\n",
       "    </tr>\n",
       "    <tr>\n",
       "      <th>3</th>\n",
       "      <td>2.525592</td>\n",
       "      <td>3.760000e-06</td>\n",
       "      <td>-3.760000e-06</td>\n",
       "      <td>171.595550</td>\n",
       "      <td>0.001130</td>\n",
       "      <td>-0.001130</td>\n",
       "      <td>0.701</td>\n",
       "      <td>0.235</td>\n",
       "      <td>-0.478</td>\n",
       "      <td>1.65450</td>\n",
       "      <td>...</td>\n",
       "      <td>-211</td>\n",
       "      <td>4.438</td>\n",
       "      <td>0.070</td>\n",
       "      <td>-0.210</td>\n",
       "      <td>1.046</td>\n",
       "      <td>0.334</td>\n",
       "      <td>-0.133</td>\n",
       "      <td>288.75488</td>\n",
       "      <td>48.226200</td>\n",
       "      <td>15.509</td>\n",
       "    </tr>\n",
       "    <tr>\n",
       "      <th>4</th>\n",
       "      <td>4.134435</td>\n",
       "      <td>1.050000e-05</td>\n",
       "      <td>-1.050000e-05</td>\n",
       "      <td>172.979370</td>\n",
       "      <td>0.001900</td>\n",
       "      <td>-0.001900</td>\n",
       "      <td>0.762</td>\n",
       "      <td>0.139</td>\n",
       "      <td>-0.532</td>\n",
       "      <td>3.14020</td>\n",
       "      <td>...</td>\n",
       "      <td>-232</td>\n",
       "      <td>4.486</td>\n",
       "      <td>0.054</td>\n",
       "      <td>-0.229</td>\n",
       "      <td>0.972</td>\n",
       "      <td>0.315</td>\n",
       "      <td>-0.105</td>\n",
       "      <td>296.28613</td>\n",
       "      <td>48.224670</td>\n",
       "      <td>15.714</td>\n",
       "    </tr>\n",
       "  </tbody>\n",
       "</table>\n",
       "<p>5 rows × 35 columns</p>\n",
       "</div>"
      ],
      "text/plain": [
       "   koi_period  koi_period_err1  koi_period_err2  koi_time0bk  \\\n",
       "0   54.418383     2.479000e-04    -2.479000e-04   162.513840   \n",
       "1   19.899140     1.490000e-05    -1.490000e-05   175.850252   \n",
       "2    1.736952     2.630000e-07    -2.630000e-07   170.307565   \n",
       "3    2.525592     3.760000e-06    -3.760000e-06   171.595550   \n",
       "4    4.134435     1.050000e-05    -1.050000e-05   172.979370   \n",
       "\n",
       "   koi_time0bk_err1  koi_time0bk_err2  koi_impact  koi_impact_err1  \\\n",
       "0          0.003520         -0.003520       0.586            0.059   \n",
       "1          0.000581         -0.000581       0.969            5.126   \n",
       "2          0.000115         -0.000115       1.276            0.115   \n",
       "3          0.001130         -0.001130       0.701            0.235   \n",
       "4          0.001900         -0.001900       0.762            0.139   \n",
       "\n",
       "   koi_impact_err2  koi_duration  ...  koi_steff_err2  koi_slogg  \\\n",
       "0           -0.443       4.50700  ...             -81      4.467   \n",
       "1           -0.077       1.78220  ...            -176      4.544   \n",
       "2           -0.092       2.40641  ...            -174      4.564   \n",
       "3           -0.478       1.65450  ...            -211      4.438   \n",
       "4           -0.532       3.14020  ...            -232      4.486   \n",
       "\n",
       "   koi_slogg_err1  koi_slogg_err2  koi_srad  koi_srad_err1  koi_srad_err2  \\\n",
       "0           0.064          -0.096     0.927          0.105         -0.061   \n",
       "1           0.044          -0.176     0.868          0.233         -0.078   \n",
       "2           0.053          -0.168     0.791          0.201         -0.067   \n",
       "3           0.070          -0.210     1.046          0.334         -0.133   \n",
       "4           0.054          -0.229     0.972          0.315         -0.105   \n",
       "\n",
       "          ra        dec  koi_kepmag  \n",
       "0  291.93423  48.141651      15.347  \n",
       "1  297.00482  48.134129      15.436  \n",
       "2  285.53461  48.285210      15.597  \n",
       "3  288.75488  48.226200      15.509  \n",
       "4  296.28613  48.224670      15.714  \n",
       "\n",
       "[5 rows x 35 columns]"
      ]
     },
     "execution_count": 13,
     "metadata": {},
     "output_type": "execute_result"
    }
   ],
   "source": [
    "# Drop non-categorical features (i.e. those with distinct value counts below 10)\n",
    "non_cat_features = data.drop([\"koi_disposition\",\"koi_fpflag_nt\", \"koi_fpflag_ss\", \"koi_fpflag_co\", \"koi_fpflag_ec\", \"koi_tce_plnt_num\"], axis=1)\n",
    "non_cat_features.head()"
   ]
  },
  {
   "cell_type": "code",
   "execution_count": 48,
   "metadata": {},
   "outputs": [
    {
     "name": "stdout",
     "output_type": "stream",
     "text": [
      "Feature name: koi_period\n",
      "Mean: 56.19124824144902\n",
      "St. dev.: 117.57096196360938\n",
      "IQR: 31.662478872999998\n",
      "Potential outliers: 1121\n"
     ]
    },
    {
     "data": {
      "image/png": "[encoded data removed]",
      "text/plain": [
       "<Figure size 432x288 with 1 Axes>"
      ]
     },
     "metadata": {
      "needs_background": "light"
     },
     "output_type": "display_data"
    },
    {
     "name": "stdout",
     "output_type": "stream",
     "text": [
      "Feature name: koi_period_err1\n",
      "Mean: 0.0018511224052353058\n",
      "St. dev.: 0.00718450348337558\n",
      "IQR: 0.00023509499999999997\n",
      "Potential outliers: 1226\n"
     ]
    },
    {
     "data": {
      "image/png": "[encoded data removed]",
      "text/plain": [
       "<Figure size 432x288 with 1 Axes>"
      ]
     },
     "metadata": {
      "needs_background": "light"
     },
     "output_type": "display_data"
    },
    {
     "name": "stdout",
     "output_type": "stream",
     "text": [
      "Feature name: koi_period_err2\n",
      "Mean: -0.0018511224052353058\n",
      "St. dev.: 0.00718450348337558\n",
      "IQR: 0.00023509499999999997\n",
      "Potential outliers: 1226\n"
     ]
    },
    {
     "data": {
      "image/png": "[encoded data removed]",
      "text/plain": [
       "<Figure size 432x288 with 1 Axes>"
      ]
     },
     "metadata": {
      "needs_background": "light"
     },
     "output_type": "display_data"
    },
    {
     "name": "stdout",
     "output_type": "stream",
     "text": [
      "Feature name: koi_time0bk\n",
      "Mean: 164.48882041055592\n",
      "St. dev.: 67.02047510983884\n",
      "IQR: 37.253088399999996\n",
      "Potential outliers: 723\n"
     ]
    },
    {
     "data": {
      "image/png": "[encoded data removed]",
      "text/plain": [
       "<Figure size 432x288 with 1 Axes>"
      ]
     },
     "metadata": {
      "needs_background": "light"
     },
     "output_type": "display_data"
    },
    {
     "name": "stdout",
     "output_type": "stream",
     "text": [
      "Feature name: koi_time0bk_err1\n",
      "Mean: 0.009340094821913857\n",
      "St. dev.: 0.021988970310973233\n",
      "IQR: 0.008855\n",
      "Potential outliers: 619\n"
     ]
    },
    {
     "data": {
      "image/png": "[encoded data removed]",
      "text/plain": [
       "<Figure size 432x288 with 1 Axes>"
      ]
     },
     "metadata": {
      "needs_background": "light"
     },
     "output_type": "display_data"
    },
    {
     "name": "stdout",
     "output_type": "stream",
     "text": [
      "Feature name: koi_time0bk_err2\n",
      "Mean: -0.009340094821913857\n",
      "St. dev.: 0.021988970310973233\n",
      "IQR: 0.008855\n",
      "Potential outliers: 619\n"
     ]
    },
    {
     "data": {
      "image/png": "[encoded data removed]",
      "text/plain": [
       "<Figure size 432x288 with 1 Axes>"
      ]
     },
     "metadata": {
      "needs_background": "light"
     },
     "output_type": "display_data"
    },
    {
     "name": "stdout",
     "output_type": "stream",
     "text": [
      "Feature name: koi_impact\n",
      "Mean: 0.7306305249606626\n",
      "St. dev.: 3.346955781053012\n",
      "IQR: 0.6929999999999998\n",
      "Potential outliers: 56\n"
     ]
    },
    {
     "data": {
      "image/png": "[encoded data removed]",
      "text/plain": [
       "<Figure size 432x288 with 1 Axes>"
      ]
     },
     "metadata": {
      "needs_background": "light"
     },
     "output_type": "display_data"
    },
    {
     "name": "stdout",
     "output_type": "stream",
     "text": [
      "Feature name: koi_impact_err1\n",
      "Mean: 1.9453677585467086\n",
      "St. dev.: 9.401850202154035\n",
      "IQR: 0.3391\n",
      "Potential outliers: 566\n"
     ]
    },
    {
     "data": {
      "image/png": "[encoded data removed]",
      "text/plain": [
       "<Figure size 432x288 with 1 Axes>"
      ]
     },
     "metadata": {
      "needs_background": "light"
     },
     "output_type": "display_data"
    },
    {
     "name": "stdout",
     "output_type": "stream",
     "text": [
      "Feature name: koi_impact_err2\n",
      "Mean: -0.3372426119296233\n",
      "St. dev.: 1.349035562922965\n",
      "IQR: 0.402\n",
      "Potential outliers: 93\n"
     ]
    },
    {
     "data": {
      "image/png": "[encoded data removed]",
      "text/plain": [
       "<Figure size 432x288 with 1 Axes>"
      ]
     },
     "metadata": {
      "needs_background": "light"
     },
     "output_type": "display_data"
    },
    {
     "name": "stdout",
     "output_type": "stream",
     "text": [
      "Feature name: koi_duration\n",
      "Mean: 5.54936826348162\n",
      "St. dev.: 6.425204918844973\n",
      "IQR: 3.7515\n",
      "Potential outliers: 615\n"
     ]
    },
    {
     "data": {
      "image/png": "[encoded data removed]",
      "text/plain": [
       "<Figure size 432x288 with 1 Axes>"
      ]
     },
     "metadata": {
      "needs_background": "light"
     },
     "output_type": "display_data"
    },
    {
     "name": "stdout",
     "output_type": "stream",
     "text": [
      "Feature name: koi_duration_err1\n",
      "Mean: 0.3207152353025319\n",
      "St. dev.: 0.6653523408951437\n",
      "IQR: 0.28509999999999996\n",
      "Potential outliers: 672\n"
     ]
    },
    {
     "data": {
      "image/png": "[encoded data removed]",
      "text/plain": [
       "<Figure size 432x288 with 1 Axes>"
      ]
     },
     "metadata": {
      "needs_background": "light"
     },
     "output_type": "display_data"
    },
    {
     "name": "stdout",
     "output_type": "stream",
     "text": [
      "Feature name: koi_duration_err2\n",
      "Mean: -0.3207152353025319\n",
      "St. dev.: 0.6653523408951437\n",
      "IQR: 0.28509999999999996\n",
      "Potential outliers: 672\n"
     ]
    },
    {
     "data": {
      "image/png": "[encoded data removed]",
      "text/plain": [
       "<Figure size 432x288 with 1 Axes>"
      ]
     },
     "metadata": {
      "needs_background": "light"
     },
     "output_type": "display_data"
    },
    {
     "name": "stdout",
     "output_type": "stream",
     "text": [
      "Feature name: koi_depth\n",
      "Mean: 23911.900615076534\n",
      "St. dev.: 82412.40287531544\n",
      "IQR: 1372.85\n",
      "Potential outliers: 1384\n"
     ]
    },
    {
     "data": {
      "image/png": "[encoded data removed]",
      "text/plain": [
       "<Figure size 432x288 with 1 Axes>"
      ]
     },
     "metadata": {
      "needs_background": "light"
     },
     "output_type": "display_data"
    },
    {
     "name": "stdout",
     "output_type": "stream",
     "text": [
      "Feature name: koi_depth_err1\n",
      "Mean: 130.78918609641\n",
      "St. dev.: 4689.233030492682\n",
      "IQR: 38.6\n",
      "Potential outliers: 814\n"
     ]
    },
    {
     "data": {
      "image/png": "[encoded data removed]",
      "text/plain": [
       "<Figure size 432x288 with 1 Axes>"
      ]
     },
     "metadata": {
      "needs_background": "light"
     },
     "output_type": "display_data"
    },
    {
     "name": "stdout",
     "output_type": "stream",
     "text": [
      "Feature name: koi_depth_err2\n",
      "Mean: -130.78918609641\n",
      "St. dev.: 4689.233030492682\n",
      "IQR: 38.6\n",
      "Potential outliers: 814\n"
     ]
    },
    {
     "data": {
      "image/png": "[encoded data removed]",
      "text/plain": [
       "<Figure size 432x288 with 1 Axes>"
      ]
     },
     "metadata": {
      "needs_background": "light"
     },
     "output_type": "display_data"
    },
    {
     "name": "stdout",
     "output_type": "stream",
     "text": [
      "Feature name: koi_prad\n",
      "Mean: 121.19419253325698\n",
      "St. dev.: 3519.7376255749\n",
      "IQR: 14.565\n",
      "Potential outliers: 1049\n"
     ]
    },
    {
     "data": {
      "image/png": "[encoded data removed]",
      "text/plain": [
       "<Figure size 432x288 with 1 Axes>"
      ]
     },
     "metadata": {
      "needs_background": "light"
     },
     "output_type": "display_data"
    },
    {
     "name": "stdout",
     "output_type": "stream",
     "text": [
      "Feature name: koi_prad_err1\n",
      "Mean: 19.483454441424644\n",
      "St. dev.: 436.75206442945097\n",
      "IQR: 2.41\n",
      "Potential outliers: 1266\n"
     ]
    },
    {
     "data": {
      "image/png": "[encoded data removed]",
      "text/plain": [
       "<Figure size 432x288 with 1 Axes>"
      ]
     },
     "metadata": {
      "needs_background": "light"
     },
     "output_type": "display_data"
    },
    {
     "name": "stdout",
     "output_type": "stream",
     "text": [
      "Feature name: koi_prad_err2\n",
      "Mean: -40.35250894006576\n",
      "St. dev.: 1366.9393754504613\n",
      "IQR: 1.94\n",
      "Potential outliers: 1049\n"
     ]
    },
    {
     "data": {
      "image/png": "[encoded data removed]",
      "text/plain": [
       "<Figure size 432x288 with 1 Axes>"
      ]
     },
     "metadata": {
      "needs_background": "light"
     },
     "output_type": "display_data"
    },
    {
     "name": "stdout",
     "output_type": "stream",
     "text": [
      "Feature name: koi_teq\n",
      "Mean: 1095.1527678443713\n",
      "St. dev.: 856.2348085256953\n",
      "IQR: 843.5\n",
      "Potential outliers: 306\n"
     ]
    },
    {
     "data": {
      "image/png": "[encoded data removed]",
      "text/plain": [
       "<Figure size 432x288 with 1 Axes>"
      ]
     },
     "metadata": {
      "needs_background": "light"
     },
     "output_type": "display_data"
    },
    {
     "name": "stdout",
     "output_type": "stream",
     "text": [
      "Feature name: koi_insol\n",
      "Mean: 8263.768509512225\n",
      "St. dev.: 177525.467654665\n",
      "IQR: 878.4000000000001\n",
      "Potential outliers: 1054\n"
     ]
    },
    {
     "data": {
      "image/png": "[encoded data removed]",
      "text/plain": [
       "<Figure size 432x288 with 1 Axes>"
      ]
     },
     "metadata": {
      "needs_background": "light"
     },
     "output_type": "display_data"
    },
    {
     "name": "stdout",
     "output_type": "stream",
     "text": [
      "Feature name: koi_insol_err1\n",
      "Mean: 3599.9179788299243\n",
      "St. dev.: 56072.70185367019\n",
      "IQR: 541.565\n",
      "Potential outliers: 1140\n"
     ]
    },
    {
     "data": {
      "image/png": "[encoded data removed]",
      "text/plain": [
       "<Figure size 432x288 with 1 Axes>"
      ]
     },
     "metadata": {
      "needs_background": "light"
     },
     "output_type": "display_data"
    },
    {
     "name": "stdout",
     "output_type": "stream",
     "text": [
      "Feature name: koi_insol_err2\n",
      "Mean: -4302.621497639831\n",
      "St. dev.: 99248.48198456824\n",
      "IQR: 300.495\n",
      "Potential outliers: 1092\n"
     ]
    },
    {
     "data": {
      "image/png": "[encoded data removed]",
      "text/plain": [
       "<Figure size 432x288 with 1 Axes>"
      ]
     },
     "metadata": {
      "needs_background": "light"
     },
     "output_type": "display_data"
    },
    {
     "name": "stdout",
     "output_type": "stream",
     "text": [
      "Feature name: koi_model_snr\n",
      "Mean: 276.0387641253041\n",
      "St. dev.: 824.7884809936525\n",
      "IQR: 69.85\n",
      "Potential outliers: 1228\n"
     ]
    },
    {
     "data": {
      "image/png": "[encoded data removed]",
      "text/plain": [
       "<Figure size 432x288 with 1 Axes>"
      ]
     },
     "metadata": {
      "needs_background": "light"
     },
     "output_type": "display_data"
    },
    {
     "name": "stdout",
     "output_type": "stream",
     "text": [
      "Feature name: koi_steff\n",
      "Mean: 5700.682448862824\n",
      "St. dev.: 802.0604045619131\n",
      "IQR: 813.0\n",
      "Potential outliers: 409\n"
     ]
    },
    {
     "data": {
      "image/png": "[encoded data removed]",
      "text/plain": [
       "<Figure size 432x288 with 1 Axes>"
      ]
     },
     "metadata": {
      "needs_background": "light"
     },
     "output_type": "display_data"
    },
    {
     "name": "stdout",
     "output_type": "stream",
     "text": [
      "Feature name: koi_steff_err1\n",
      "Mean: 143.8981547704191\n",
      "St. dev.: 46.56651139734554\n",
      "IQR: 69.0\n",
      "Potential outliers: 52\n"
     ]
    },
    {
     "data": {
      "image/png": "[encoded data removed]",
      "text/plain": [
       "<Figure size 432x288 with 1 Axes>"
      ]
     },
     "metadata": {
      "needs_background": "light"
     },
     "output_type": "display_data"
    },
    {
     "name": "stdout",
     "output_type": "stream",
     "text": [
      "Feature name: koi_steff_err2\n",
      "Mean: -161.20698040337578\n",
      "St. dev.: 71.44848129361449\n",
      "IQR: 85.0\n",
      "Potential outliers: 141\n"
     ]
    },
    {
     "data": {
      "image/png": "[encoded data removed]",
      "text/plain": [
       "<Figure size 432x288 with 1 Axes>"
      ]
     },
     "metadata": {
      "needs_background": "light"
     },
     "output_type": "display_data"
    },
    {
     "name": "stdout",
     "output_type": "stream",
     "text": [
      "Feature name: koi_slogg\n",
      "Mean: 4.305049206122168\n",
      "St. dev.: 0.43923801380520805\n",
      "IQR: 0.3340000000000005\n",
      "Potential outliers: 503\n"
     ]
    },
    {
     "data": {
      "image/png": "[encoded data removed]",
      "text/plain": [
       "<Figure size 432x288 with 1 Axes>"
      ]
     },
     "metadata": {
      "needs_background": "light"
     },
     "output_type": "display_data"
    },
    {
     "name": "stdout",
     "output_type": "stream",
     "text": [
      "Feature name: koi_slogg_err1\n",
      "Mean: 0.1210911171506213\n",
      "St. dev.: 0.13204777767062248\n",
      "IQR: 0.10499999999999998\n",
      "Potential outliers: 519\n"
     ]
    },
    {
     "data": {
      "image/png": "[encoded data removed]",
      "text/plain": [
       "<Figure size 432x288 with 1 Axes>"
      ]
     },
     "metadata": {
      "needs_background": "light"
     },
     "output_type": "display_data"
    },
    {
     "name": "stdout",
     "output_type": "stream",
     "text": [
      "Feature name: koi_slogg_err2\n",
      "Mean: -0.1404800457731365\n",
      "St. dev.: 0.08199006095457\n",
      "IQR: 0.107\n",
      "Potential outliers: 81\n"
     ]
    },
    {
     "data": {
      "image/png": "[encoded data removed]",
      "text/plain": [
       "<Figure size 432x288 with 1 Axes>"
      ]
     },
     "metadata": {
      "needs_background": "light"
     },
     "output_type": "display_data"
    },
    {
     "name": "stdout",
     "output_type": "stream",
     "text": [
      "Feature name: koi_srad\n",
      "Mean: 1.7407485338292106\n",
      "St. dev.: 5.903414598265669\n",
      "IQR: 0.5279999999999999\n",
      "Potential outliers: 766\n"
     ]
    },
    {
     "data": {
      "image/png": "[encoded data removed]",
      "text/plain": [
       "<Figure size 432x288 with 1 Axes>"
      ]
     },
     "metadata": {
      "needs_background": "light"
     },
     "output_type": "display_data"
    },
    {
     "name": "stdout",
     "output_type": "stream",
     "text": [
      "Feature name: koi_srad_err1\n",
      "Mean: 0.3527103418681165\n",
      "St. dev.: 0.8390173345151573\n",
      "IQR: 0.22900000000000004\n",
      "Potential outliers: 525\n"
     ]
    },
    {
     "data": {
      "image/png": "[encoded data removed]",
      "text/plain": [
       "<Figure size 432x288 with 1 Axes>"
      ]
     },
     "metadata": {
      "needs_background": "light"
     },
     "output_type": "display_data"
    },
    {
     "name": "stdout",
     "output_type": "stream",
     "text": [
      "Feature name: koi_srad_err2\n",
      "Mean: -0.38856758689744086\n",
      "St. dev.: 1.9077968998644435\n",
      "IQR: 0.183\n",
      "Potential outliers: 1000\n"
     ]
    },
    {
     "data": {
      "image/png": "[encoded data removed]",
      "text/plain": [
       "<Figure size 432x288 with 1 Axes>"
      ]
     },
     "metadata": {
      "needs_background": "light"
     },
     "output_type": "display_data"
    },
    {
     "name": "stdout",
     "output_type": "stream",
     "text": [
      "Feature name: ra\n",
      "Mean: 292.0824059390654\n",
      "St. dev.: 4.762907551430908\n",
      "IQR: 7.183819999999969\n",
      "Potential outliers: 0\n"
     ]
    },
    {
     "data": {
      "image/png": "[encoded data removed]",
      "text/plain": [
       "<Figure size 432x288 with 1 Axes>"
      ]
     },
     "metadata": {
      "needs_background": "light"
     },
     "output_type": "display_data"
    },
    {
     "name": "stdout",
     "output_type": "stream",
     "text": [
      "Feature name: dec\n",
      "Mean: 43.812143163353056\n",
      "St. dev.: 3.6061673287025346\n",
      "IQR: 5.895899\n",
      "Potential outliers: 0\n"
     ]
    },
    {
     "data": {
      "image/png": "[encoded data removed]",
      "text/plain": [
       "<Figure size 432x288 with 1 Axes>"
      ]
     },
     "metadata": {
      "needs_background": "light"
     },
     "output_type": "display_data"
    },
    {
     "name": "stdout",
     "output_type": "stream",
     "text": [
      "Feature name: koi_kepmag\n",
      "Mean: 14.27150779573737\n",
      "St. dev.: 1.3508022796689985\n",
      "IQR: 1.8670000000000009\n",
      "Potential outliers: 100\n"
     ]
    },
    {
     "data": {
      "image/png": "[encoded data removed]",
      "text/plain": [
       "<Figure size 432x288 with 1 Axes>"
      ]
     },
     "metadata": {
      "needs_background": "light"
     },
     "output_type": "display_data"
    }
   ],
   "source": [
    "# Declare number of bins and empty arrays to store statistical values\n",
    "n_bins = 20\n",
    "columns = []\n",
    "means = []\n",
    "stds = []\n",
    "mins = []\n",
    "maxs = []\n",
    "outliers = []\n",
    "\n",
    "for column in non_cat_features.columns:\n",
    "    # Calculate stats for each feature\n",
    "    feature_mean = non_cat_features[column].mean()\n",
    "    feature_std = non_cat_features[column].std()\n",
    "    feature_min = non_cat_features[column].min()\n",
    "    feature_max = non_cat_features[column].max()\n",
    "    \n",
    "    # Determine IQR and potential outliers\n",
    "    quantiles = non_cat_features[column].quantile([0.25, 0.5, 0.75, 1])\n",
    "    IQR = quantiles[0.75] - quantiles[0.25]\n",
    "    outlier_set = non_cat_features.loc[(non_cat_features[column] < quantiles[0.25] - 1.5 * IQR) |\n",
    "                                        (non_cat_features[column] > quantiles[0.75] + 1.5 * IQR), :]\n",
    "    outlier_count = outlier_set[column].count()\n",
    "    \n",
    "    # Append values to sets to generate summary DataFrame\n",
    "    columns.append(column)\n",
    "    means.append(feature_mean)\n",
    "    stds.append(feature_std)\n",
    "    mins.append(feature_min)\n",
    "    maxs.append(feature_max)\n",
    "    outliers.append(outlier_count)\n",
    "    \n",
    "    # Print values and display histogram for each feature\n",
    "    print(f\"Feature name: {column}\")\n",
    "    print(f\"Mean: {feature_mean}\")\n",
    "    print(f\"St. dev.: {non_cat_features[column].std()}\")\n",
    "    print(f\"IQR: {IQR}\")\n",
    "    print(f\"Potential outliers: {outlier_count}\")\n",
    "    \n",
    "    plt.hist(non_cat_features[column], bins=n_bins)\n",
    "    plt.show()\n"
   ]
  },
  {
   "cell_type": "code",
   "execution_count": 54,
   "metadata": {},
   "outputs": [
    {
     "data": {
      "text/html": [
       "<div>\n",
       "<style scoped>\n",
       "    .dataframe tbody tr th:only-of-type {\n",
       "        vertical-align: middle;\n",
       "    }\n",
       "\n",
       "    .dataframe tbody tr th {\n",
       "        vertical-align: top;\n",
       "    }\n",
       "\n",
       "    .dataframe thead th {\n",
       "        text-align: right;\n",
       "    }\n",
       "</style>\n",
       "<table border=\"1\" class=\"dataframe\">\n",
       "  <thead>\n",
       "    <tr style=\"text-align: right;\">\n",
       "      <th></th>\n",
       "      <th>feature</th>\n",
       "      <th>mean</th>\n",
       "      <th>std</th>\n",
       "      <th>min</th>\n",
       "      <th>max</th>\n",
       "      <th>potential outlier count</th>\n",
       "    </tr>\n",
       "  </thead>\n",
       "  <tbody>\n",
       "    <tr>\n",
       "      <th>32</th>\n",
       "      <td>ra</td>\n",
       "      <td>292.082406</td>\n",
       "      <td>4.762908</td>\n",
       "      <td>2.798561e+02</td>\n",
       "      <td>3.017208e+02</td>\n",
       "      <td>0</td>\n",
       "    </tr>\n",
       "    <tr>\n",
       "      <th>33</th>\n",
       "      <td>dec</td>\n",
       "      <td>43.812143</td>\n",
       "      <td>3.606167</td>\n",
       "      <td>3.657738e+01</td>\n",
       "      <td>5.233601e+01</td>\n",
       "      <td>0</td>\n",
       "    </tr>\n",
       "    <tr>\n",
       "      <th>24</th>\n",
       "      <td>koi_steff_err1</td>\n",
       "      <td>143.898155</td>\n",
       "      <td>46.566511</td>\n",
       "      <td>0.000000e+00</td>\n",
       "      <td>6.760000e+02</td>\n",
       "      <td>52</td>\n",
       "    </tr>\n",
       "    <tr>\n",
       "      <th>6</th>\n",
       "      <td>koi_impact</td>\n",
       "      <td>0.730631</td>\n",
       "      <td>3.346956</td>\n",
       "      <td>0.000000e+00</td>\n",
       "      <td>1.008060e+02</td>\n",
       "      <td>56</td>\n",
       "    </tr>\n",
       "    <tr>\n",
       "      <th>28</th>\n",
       "      <td>koi_slogg_err2</td>\n",
       "      <td>-0.140480</td>\n",
       "      <td>0.081990</td>\n",
       "      <td>-1.007000e+00</td>\n",
       "      <td>0.000000e+00</td>\n",
       "      <td>81</td>\n",
       "    </tr>\n",
       "    <tr>\n",
       "      <th>8</th>\n",
       "      <td>koi_impact_err2</td>\n",
       "      <td>-0.337243</td>\n",
       "      <td>1.349036</td>\n",
       "      <td>-5.932000e+01</td>\n",
       "      <td>0.000000e+00</td>\n",
       "      <td>93</td>\n",
       "    </tr>\n",
       "    <tr>\n",
       "      <th>34</th>\n",
       "      <td>koi_kepmag</td>\n",
       "      <td>14.271508</td>\n",
       "      <td>1.350802</td>\n",
       "      <td>6.966000e+00</td>\n",
       "      <td>1.906500e+01</td>\n",
       "      <td>100</td>\n",
       "    </tr>\n",
       "    <tr>\n",
       "      <th>25</th>\n",
       "      <td>koi_steff_err2</td>\n",
       "      <td>-161.206980</td>\n",
       "      <td>71.448481</td>\n",
       "      <td>-1.733000e+03</td>\n",
       "      <td>0.000000e+00</td>\n",
       "      <td>141</td>\n",
       "    </tr>\n",
       "    <tr>\n",
       "      <th>18</th>\n",
       "      <td>koi_teq</td>\n",
       "      <td>1095.152768</td>\n",
       "      <td>856.234809</td>\n",
       "      <td>9.200000e+01</td>\n",
       "      <td>1.466700e+04</td>\n",
       "      <td>306</td>\n",
       "    </tr>\n",
       "    <tr>\n",
       "      <th>23</th>\n",
       "      <td>koi_steff</td>\n",
       "      <td>5700.682449</td>\n",
       "      <td>802.060405</td>\n",
       "      <td>2.661000e+03</td>\n",
       "      <td>1.589600e+04</td>\n",
       "      <td>409</td>\n",
       "    </tr>\n",
       "    <tr>\n",
       "      <th>26</th>\n",
       "      <td>koi_slogg</td>\n",
       "      <td>4.305049</td>\n",
       "      <td>0.439238</td>\n",
       "      <td>4.700000e-02</td>\n",
       "      <td>5.364000e+00</td>\n",
       "      <td>503</td>\n",
       "    </tr>\n",
       "    <tr>\n",
       "      <th>27</th>\n",
       "      <td>koi_slogg_err1</td>\n",
       "      <td>0.121091</td>\n",
       "      <td>0.132048</td>\n",
       "      <td>0.000000e+00</td>\n",
       "      <td>1.472000e+00</td>\n",
       "      <td>519</td>\n",
       "    </tr>\n",
       "    <tr>\n",
       "      <th>30</th>\n",
       "      <td>koi_srad_err1</td>\n",
       "      <td>0.352710</td>\n",
       "      <td>0.839017</td>\n",
       "      <td>0.000000e+00</td>\n",
       "      <td>2.595600e+01</td>\n",
       "      <td>525</td>\n",
       "    </tr>\n",
       "    <tr>\n",
       "      <th>7</th>\n",
       "      <td>koi_impact_err1</td>\n",
       "      <td>1.945368</td>\n",
       "      <td>9.401850</td>\n",
       "      <td>0.000000e+00</td>\n",
       "      <td>8.554000e+01</td>\n",
       "      <td>566</td>\n",
       "    </tr>\n",
       "    <tr>\n",
       "      <th>9</th>\n",
       "      <td>koi_duration</td>\n",
       "      <td>5.549368</td>\n",
       "      <td>6.425205</td>\n",
       "      <td>1.670000e-01</td>\n",
       "      <td>1.385400e+02</td>\n",
       "      <td>615</td>\n",
       "    </tr>\n",
       "    <tr>\n",
       "      <th>5</th>\n",
       "      <td>koi_time0bk_err2</td>\n",
       "      <td>-0.009340</td>\n",
       "      <td>0.021989</td>\n",
       "      <td>-5.690000e-01</td>\n",
       "      <td>-8.700000e-06</td>\n",
       "      <td>619</td>\n",
       "    </tr>\n",
       "    <tr>\n",
       "      <th>4</th>\n",
       "      <td>koi_time0bk_err1</td>\n",
       "      <td>0.009340</td>\n",
       "      <td>0.021989</td>\n",
       "      <td>8.700000e-06</td>\n",
       "      <td>5.690000e-01</td>\n",
       "      <td>619</td>\n",
       "    </tr>\n",
       "    <tr>\n",
       "      <th>10</th>\n",
       "      <td>koi_duration_err1</td>\n",
       "      <td>0.320715</td>\n",
       "      <td>0.665352</td>\n",
       "      <td>0.000000e+00</td>\n",
       "      <td>2.020000e+01</td>\n",
       "      <td>672</td>\n",
       "    </tr>\n",
       "    <tr>\n",
       "      <th>11</th>\n",
       "      <td>koi_duration_err2</td>\n",
       "      <td>-0.320715</td>\n",
       "      <td>0.665352</td>\n",
       "      <td>-2.020000e+01</td>\n",
       "      <td>0.000000e+00</td>\n",
       "      <td>672</td>\n",
       "    </tr>\n",
       "    <tr>\n",
       "      <th>3</th>\n",
       "      <td>koi_time0bk</td>\n",
       "      <td>164.488820</td>\n",
       "      <td>67.020475</td>\n",
       "      <td>1.205159e+02</td>\n",
       "      <td>1.472522e+03</td>\n",
       "      <td>723</td>\n",
       "    </tr>\n",
       "    <tr>\n",
       "      <th>29</th>\n",
       "      <td>koi_srad</td>\n",
       "      <td>1.740749</td>\n",
       "      <td>5.903415</td>\n",
       "      <td>1.090000e-01</td>\n",
       "      <td>1.800130e+02</td>\n",
       "      <td>766</td>\n",
       "    </tr>\n",
       "    <tr>\n",
       "      <th>13</th>\n",
       "      <td>koi_depth_err1</td>\n",
       "      <td>130.789186</td>\n",
       "      <td>4689.233030</td>\n",
       "      <td>0.000000e+00</td>\n",
       "      <td>3.886000e+05</td>\n",
       "      <td>814</td>\n",
       "    </tr>\n",
       "    <tr>\n",
       "      <th>14</th>\n",
       "      <td>koi_depth_err2</td>\n",
       "      <td>-130.789186</td>\n",
       "      <td>4689.233030</td>\n",
       "      <td>-3.886000e+05</td>\n",
       "      <td>0.000000e+00</td>\n",
       "      <td>814</td>\n",
       "    </tr>\n",
       "    <tr>\n",
       "      <th>31</th>\n",
       "      <td>koi_srad_err2</td>\n",
       "      <td>-0.388568</td>\n",
       "      <td>1.907797</td>\n",
       "      <td>-1.038250e+02</td>\n",
       "      <td>0.000000e+00</td>\n",
       "      <td>1000</td>\n",
       "    </tr>\n",
       "    <tr>\n",
       "      <th>17</th>\n",
       "      <td>koi_prad_err2</td>\n",
       "      <td>-40.352509</td>\n",
       "      <td>1366.939375</td>\n",
       "      <td>-7.718000e+04</td>\n",
       "      <td>0.000000e+00</td>\n",
       "      <td>1049</td>\n",
       "    </tr>\n",
       "    <tr>\n",
       "      <th>15</th>\n",
       "      <td>koi_prad</td>\n",
       "      <td>121.194193</td>\n",
       "      <td>3519.737626</td>\n",
       "      <td>1.400000e-01</td>\n",
       "      <td>2.003460e+05</td>\n",
       "      <td>1049</td>\n",
       "    </tr>\n",
       "    <tr>\n",
       "      <th>19</th>\n",
       "      <td>koi_insol</td>\n",
       "      <td>8263.768510</td>\n",
       "      <td>177525.467655</td>\n",
       "      <td>2.000000e-02</td>\n",
       "      <td>1.094755e+07</td>\n",
       "      <td>1054</td>\n",
       "    </tr>\n",
       "    <tr>\n",
       "      <th>21</th>\n",
       "      <td>koi_insol_err2</td>\n",
       "      <td>-4302.621498</td>\n",
       "      <td>99248.481985</td>\n",
       "      <td>-5.600031e+06</td>\n",
       "      <td>0.000000e+00</td>\n",
       "      <td>1092</td>\n",
       "    </tr>\n",
       "    <tr>\n",
       "      <th>0</th>\n",
       "      <td>koi_period</td>\n",
       "      <td>56.191248</td>\n",
       "      <td>117.570962</td>\n",
       "      <td>2.598197e-01</td>\n",
       "      <td>1.071233e+03</td>\n",
       "      <td>1121</td>\n",
       "    </tr>\n",
       "    <tr>\n",
       "      <th>20</th>\n",
       "      <td>koi_insol_err1</td>\n",
       "      <td>3599.917979</td>\n",
       "      <td>56072.701854</td>\n",
       "      <td>0.000000e+00</td>\n",
       "      <td>3.617133e+06</td>\n",
       "      <td>1140</td>\n",
       "    </tr>\n",
       "    <tr>\n",
       "      <th>2</th>\n",
       "      <td>koi_period_err2</td>\n",
       "      <td>-0.001851</td>\n",
       "      <td>0.007185</td>\n",
       "      <td>-1.568000e-01</td>\n",
       "      <td>-1.100000e-08</td>\n",
       "      <td>1226</td>\n",
       "    </tr>\n",
       "    <tr>\n",
       "      <th>1</th>\n",
       "      <td>koi_period_err1</td>\n",
       "      <td>0.001851</td>\n",
       "      <td>0.007185</td>\n",
       "      <td>1.100000e-08</td>\n",
       "      <td>1.568000e-01</td>\n",
       "      <td>1226</td>\n",
       "    </tr>\n",
       "    <tr>\n",
       "      <th>22</th>\n",
       "      <td>koi_model_snr</td>\n",
       "      <td>276.038764</td>\n",
       "      <td>824.788481</td>\n",
       "      <td>1.600000e+00</td>\n",
       "      <td>9.054700e+03</td>\n",
       "      <td>1228</td>\n",
       "    </tr>\n",
       "    <tr>\n",
       "      <th>16</th>\n",
       "      <td>koi_prad_err1</td>\n",
       "      <td>19.483454</td>\n",
       "      <td>436.752064</td>\n",
       "      <td>0.000000e+00</td>\n",
       "      <td>2.164000e+04</td>\n",
       "      <td>1266</td>\n",
       "    </tr>\n",
       "    <tr>\n",
       "      <th>12</th>\n",
       "      <td>koi_depth</td>\n",
       "      <td>23911.900615</td>\n",
       "      <td>82412.402875</td>\n",
       "      <td>7.500000e+00</td>\n",
       "      <td>1.541400e+06</td>\n",
       "      <td>1384</td>\n",
       "    </tr>\n",
       "  </tbody>\n",
       "</table>\n",
       "</div>"
      ],
      "text/plain": [
       "              feature          mean            std           min  \\\n",
       "32                 ra    292.082406       4.762908  2.798561e+02   \n",
       "33                dec     43.812143       3.606167  3.657738e+01   \n",
       "24     koi_steff_err1    143.898155      46.566511  0.000000e+00   \n",
       "6          koi_impact      0.730631       3.346956  0.000000e+00   \n",
       "28     koi_slogg_err2     -0.140480       0.081990 -1.007000e+00   \n",
       "8     koi_impact_err2     -0.337243       1.349036 -5.932000e+01   \n",
       "34         koi_kepmag     14.271508       1.350802  6.966000e+00   \n",
       "25     koi_steff_err2   -161.206980      71.448481 -1.733000e+03   \n",
       "18            koi_teq   1095.152768     856.234809  9.200000e+01   \n",
       "23          koi_steff   5700.682449     802.060405  2.661000e+03   \n",
       "26          koi_slogg      4.305049       0.439238  4.700000e-02   \n",
       "27     koi_slogg_err1      0.121091       0.132048  0.000000e+00   \n",
       "30      koi_srad_err1      0.352710       0.839017  0.000000e+00   \n",
       "7     koi_impact_err1      1.945368       9.401850  0.000000e+00   \n",
       "9        koi_duration      5.549368       6.425205  1.670000e-01   \n",
       "5    koi_time0bk_err2     -0.009340       0.021989 -5.690000e-01   \n",
       "4    koi_time0bk_err1      0.009340       0.021989  8.700000e-06   \n",
       "10  koi_duration_err1      0.320715       0.665352  0.000000e+00   \n",
       "11  koi_duration_err2     -0.320715       0.665352 -2.020000e+01   \n",
       "3         koi_time0bk    164.488820      67.020475  1.205159e+02   \n",
       "29           koi_srad      1.740749       5.903415  1.090000e-01   \n",
       "13     koi_depth_err1    130.789186    4689.233030  0.000000e+00   \n",
       "14     koi_depth_err2   -130.789186    4689.233030 -3.886000e+05   \n",
       "31      koi_srad_err2     -0.388568       1.907797 -1.038250e+02   \n",
       "17      koi_prad_err2    -40.352509    1366.939375 -7.718000e+04   \n",
       "15           koi_prad    121.194193    3519.737626  1.400000e-01   \n",
       "19          koi_insol   8263.768510  177525.467655  2.000000e-02   \n",
       "21     koi_insol_err2  -4302.621498   99248.481985 -5.600031e+06   \n",
       "0          koi_period     56.191248     117.570962  2.598197e-01   \n",
       "20     koi_insol_err1   3599.917979   56072.701854  0.000000e+00   \n",
       "2     koi_period_err2     -0.001851       0.007185 -1.568000e-01   \n",
       "1     koi_period_err1      0.001851       0.007185  1.100000e-08   \n",
       "22      koi_model_snr    276.038764     824.788481  1.600000e+00   \n",
       "16      koi_prad_err1     19.483454     436.752064  0.000000e+00   \n",
       "12          koi_depth  23911.900615   82412.402875  7.500000e+00   \n",
       "\n",
       "             max  potential outlier count  \n",
       "32  3.017208e+02                        0  \n",
       "33  5.233601e+01                        0  \n",
       "24  6.760000e+02                       52  \n",
       "6   1.008060e+02                       56  \n",
       "28  0.000000e+00                       81  \n",
       "8   0.000000e+00                       93  \n",
       "34  1.906500e+01                      100  \n",
       "25  0.000000e+00                      141  \n",
       "18  1.466700e+04                      306  \n",
       "23  1.589600e+04                      409  \n",
       "26  5.364000e+00                      503  \n",
       "27  1.472000e+00                      519  \n",
       "30  2.595600e+01                      525  \n",
       "7   8.554000e+01                      566  \n",
       "9   1.385400e+02                      615  \n",
       "5  -8.700000e-06                      619  \n",
       "4   5.690000e-01                      619  \n",
       "10  2.020000e+01                      672  \n",
       "11  0.000000e+00                      672  \n",
       "3   1.472522e+03                      723  \n",
       "29  1.800130e+02                      766  \n",
       "13  3.886000e+05                      814  \n",
       "14  0.000000e+00                      814  \n",
       "31  0.000000e+00                     1000  \n",
       "17  0.000000e+00                     1049  \n",
       "15  2.003460e+05                     1049  \n",
       "19  1.094755e+07                     1054  \n",
       "21  0.000000e+00                     1092  \n",
       "0   1.071233e+03                     1121  \n",
       "20  3.617133e+06                     1140  \n",
       "2  -1.100000e-08                     1226  \n",
       "1   1.568000e-01                     1226  \n",
       "22  9.054700e+03                     1228  \n",
       "16  2.164000e+04                     1266  \n",
       "12  1.541400e+06                     1384  "
      ]
     },
     "execution_count": 54,
     "metadata": {},
     "output_type": "execute_result"
    }
   ],
   "source": [
    "# Generate summary DataFrame for each feature and sort according to outliers in each feature\n",
    "dict = {'feature': columns, 'mean': means, 'std': stds, 'min': mins, 'max': maxs, 'potential outlier count': outliers}\n",
    "summary_df = pd.DataFrame(dict)\n",
    "summary_df = summary_df.sort_values(by = ['potential outlier count'])\n",
    "summary_df"
   ]
  },
  {
   "cell_type": "markdown",
   "metadata": {},
   "source": [
    "## Categorical features exploration"
   ]
  },
  {
   "cell_type": "code",
   "execution_count": 55,
   "metadata": {},
   "outputs": [
    {
     "data": {
      "text/html": [
       "<div>\n",
       "<style scoped>\n",
       "    .dataframe tbody tr th:only-of-type {\n",
       "        vertical-align: middle;\n",
       "    }\n",
       "\n",
       "    .dataframe tbody tr th {\n",
       "        vertical-align: top;\n",
       "    }\n",
       "\n",
       "    .dataframe thead th {\n",
       "        text-align: right;\n",
       "    }\n",
       "</style>\n",
       "<table border=\"1\" class=\"dataframe\">\n",
       "  <thead>\n",
       "    <tr style=\"text-align: right;\">\n",
       "      <th></th>\n",
       "      <th>koi_disposition</th>\n",
       "      <th>koi_fpflag_nt</th>\n",
       "      <th>koi_fpflag_ss</th>\n",
       "      <th>koi_fpflag_co</th>\n",
       "      <th>koi_fpflag_ec</th>\n",
       "      <th>koi_tce_plnt_num</th>\n",
       "    </tr>\n",
       "  </thead>\n",
       "  <tbody>\n",
       "    <tr>\n",
       "      <th>0</th>\n",
       "      <td>CONFIRMED</td>\n",
       "      <td>0</td>\n",
       "      <td>0</td>\n",
       "      <td>0</td>\n",
       "      <td>0</td>\n",
       "      <td>2</td>\n",
       "    </tr>\n",
       "    <tr>\n",
       "      <th>1</th>\n",
       "      <td>FALSE POSITIVE</td>\n",
       "      <td>0</td>\n",
       "      <td>1</td>\n",
       "      <td>0</td>\n",
       "      <td>0</td>\n",
       "      <td>1</td>\n",
       "    </tr>\n",
       "    <tr>\n",
       "      <th>2</th>\n",
       "      <td>FALSE POSITIVE</td>\n",
       "      <td>0</td>\n",
       "      <td>1</td>\n",
       "      <td>0</td>\n",
       "      <td>0</td>\n",
       "      <td>1</td>\n",
       "    </tr>\n",
       "    <tr>\n",
       "      <th>3</th>\n",
       "      <td>CONFIRMED</td>\n",
       "      <td>0</td>\n",
       "      <td>0</td>\n",
       "      <td>0</td>\n",
       "      <td>0</td>\n",
       "      <td>1</td>\n",
       "    </tr>\n",
       "    <tr>\n",
       "      <th>4</th>\n",
       "      <td>CONFIRMED</td>\n",
       "      <td>0</td>\n",
       "      <td>0</td>\n",
       "      <td>0</td>\n",
       "      <td>0</td>\n",
       "      <td>2</td>\n",
       "    </tr>\n",
       "  </tbody>\n",
       "</table>\n",
       "</div>"
      ],
      "text/plain": [
       "  koi_disposition  koi_fpflag_nt  koi_fpflag_ss  koi_fpflag_co  koi_fpflag_ec  \\\n",
       "0       CONFIRMED              0              0              0              0   \n",
       "1  FALSE POSITIVE              0              1              0              0   \n",
       "2  FALSE POSITIVE              0              1              0              0   \n",
       "3       CONFIRMED              0              0              0              0   \n",
       "4       CONFIRMED              0              0              0              0   \n",
       "\n",
       "   koi_tce_plnt_num  \n",
       "0                 2  \n",
       "1                 1  \n",
       "2                 1  \n",
       "3                 1  \n",
       "4                 2  "
      ]
     },
     "execution_count": 55,
     "metadata": {},
     "output_type": "execute_result"
    }
   ],
   "source": [
    "cat_features = data[[\"koi_disposition\",\"koi_fpflag_nt\", \"koi_fpflag_ss\", \"koi_fpflag_co\", \"koi_fpflag_ec\", \"koi_tce_plnt_num\"]]\n",
    "cat_features.head()"
   ]
  },
  {
   "cell_type": "code",
   "execution_count": 80,
   "metadata": {},
   "outputs": [
    {
     "name": "stdout",
     "output_type": "stream",
     "text": [
      "FALSE POSITIVE    3504\n",
      "CONFIRMED         1800\n",
      "CANDIDATE         1687\n",
      "Name: koi_disposition, dtype: int64\n",
      "0    5893\n",
      "1    1098\n",
      "Name: koi_fpflag_nt, dtype: int64\n",
      "0    5280\n",
      "1    1711\n",
      "Name: koi_fpflag_ss, dtype: int64\n",
      "0    5572\n",
      "1    1419\n",
      "Name: koi_fpflag_co, dtype: int64\n",
      "0    6117\n",
      "1     874\n",
      "Name: koi_fpflag_ec, dtype: int64\n",
      "1    5903\n",
      "2     736\n",
      "3     233\n",
      "4      71\n",
      "5      29\n",
      "6      12\n",
      "7       6\n",
      "8       1\n",
      "Name: koi_tce_plnt_num, dtype: int64\n"
     ]
    }
   ],
   "source": [
    "# Get value counts from categorical field in the DataFrame\n",
    "for column in cat_features.columns:\n",
    "    feature = cat_features[column].astype(str)\n",
    "    print(feature.value_counts())\n",
    "    "
   ]
  },
  {
   "cell_type": "code",
   "execution_count": null,
   "metadata": {},
   "outputs": [],
   "source": []
  }
 ],
 "metadata": {
  "kernelspec": {
   "display_name": "Python 3",
   "language": "python",
   "name": "python3"
  },
  "language_info": {
   "codemirror_mode": {
    "name": "ipython",
    "version": 3
   },
   "file_extension": ".py",
   "mimetype": "text/x-python",
   "name": "python",
   "nbconvert_exporter": "python",
   "pygments_lexer": "ipython3",
   "version": "3.8.3"
  }
 },
 "nbformat": 4,
 "nbformat_minor": 4
}